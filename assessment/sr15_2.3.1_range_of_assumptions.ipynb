{
 "cells": [
  {
   "cell_type": "markdown",
   "metadata": {},
   "source": [
    "### *IPCC SR15 scenario assessment*\n",
    "\n",
    "<img style=\"float: right; height: 80px; padding-left: 20px;\" src=\"../_static/IIASA_logo.png\">\n",
    "<img style=\"float: right; height: 80px;\" src=\"../_static/IAMC_logo.jpg\">\n",
    "\n",
    "# Assessment of underlying drivers and assumptions\n",
    "\n",
    "This notebook contains the assessment of underlying drivers and assumptions of the scenario ensemble  \n",
    "in **Section 2.3.1** and **Figure 2.4** for the IPCC's _\"Special Report on Global Warming of 1.5°C\"_.\n",
    "\n",
    "The scenario data used in this analysis can be accessed and downloaded at [https://data.ene.iiasa.ac.at/iamc-1.5c-explorer](https://data.ene.iiasa.ac.at/iamc-1.5c-explorer)."
   ]
  },
  {
   "cell_type": "markdown",
   "metadata": {},
   "source": [
    "## Load `pyam` package and other dependencies"
   ]
  },
  {
   "cell_type": "code",
   "execution_count": 1,
   "metadata": {},
   "outputs": [
    {
     "data": {
      "application/javascript": [
       "IPython.OutputArea.prototype._should_scroll = function(lines) { return false; }"
      ],
      "text/plain": [
       "<IPython.core.display.Javascript object>"
      ]
     },
     "metadata": {},
     "output_type": "display_data"
    },
    {
     "name": "stderr",
     "output_type": "stream",
     "text": [
      "pyam - INFO: Running in a notebook, setting `pyam` logging level to `logging.INFO` and adding stderr handler\n"
     ]
    }
   ],
   "source": [
    "import pandas as pd\n",
    "import numpy as np\n",
    "import io\n",
    "import yaml\n",
    "import math\n",
    "import matplotlib.pyplot as plt\n",
    "plt.style.use('style_sr15.mplstyle')\n",
    "%matplotlib inline\n",
    "import pyam\n",
    "\n",
    "from utils import boxplot_by_cat"
   ]
  },
  {
   "cell_type": "markdown",
   "metadata": {},
   "source": [
    "## Import scenario data, categorization and specifications files\n",
    "\n",
    "The metadata file with scenario categorisation and quantitative indicators can be downloaded at [https://data.ene.iiasa.ac.at/iamc-1.5c-explorer](https://data.ene.iiasa.ac.at/iamc-1.5c-explorer).  \n",
    "Alternatively, it can be re-created using the notebook `sr15_2.0_categories_indicators`.\n",
    "\n",
    "The last cell of this section loads and assigns a number of auxiliary lists as defined in the categorization notebook."
   ]
  },
  {
   "cell_type": "code",
   "execution_count": 2,
   "metadata": {},
   "outputs": [
    {
     "name": "stderr",
     "output_type": "stream",
     "text": [
      "pyam.utils - INFO: Reading `../data/iamc15_scenario_data_world_r2.0.xlsx`\n"
     ]
    }
   ],
   "source": [
    "sr1p5 = pyam.IamDataFrame(data='../data/iamc15_scenario_data_world_r2.0.xlsx')"
   ]
  },
  {
   "cell_type": "code",
   "execution_count": null,
   "metadata": {},
   "outputs": [],
   "source": [
    "sr1p5.load_meta('sr15_metadata_indicators.xlsx')"
   ]
  },
  {
   "cell_type": "code",
   "execution_count": null,
   "metadata": {},
   "outputs": [],
   "source": [
    "with open(\"sr15_specs.yaml\", 'r') as stream:\n",
    "    specs = yaml.load(stream, Loader=yaml.FullLoader)\n",
    "\n",
    "rc = pyam.run_control()\n",
    "for item in specs.pop('run_control').items():\n",
    "    rc.update({item[0]: item[1]})\n",
    "cats = specs.pop('cats')\n",
    "cats_15 = specs.pop('cats_15')\n",
    "marker= specs.pop('marker')"
   ]
  },
  {
   "cell_type": "markdown",
   "metadata": {},
   "source": [
    "## Set specifications for figures and statistics\n",
    "\n",
    "First, set the list of years included in the plots. Then, define an auxiliary dictionary and function for easier display."
   ]
  },
  {
   "cell_type": "code",
   "execution_count": null,
   "metadata": {},
   "outputs": [],
   "source": [
    "filter_args = dict(df=sr1p5, category=cats, marker=None, join_meta=True)"
   ]
  },
  {
   "cell_type": "markdown",
   "metadata": {},
   "source": [
    "## Downselect scenario ensemble to years interest for this assessment"
   ]
  },
  {
   "cell_type": "code",
   "execution_count": null,
   "metadata": {},
   "outputs": [],
   "source": [
    "full_horizon = range(2010, 2101, 10)"
   ]
  },
  {
   "cell_type": "code",
   "execution_count": null,
   "metadata": {},
   "outputs": [],
   "source": [
    "df = sr1p5.filter(category=cats, year=full_horizon)"
   ]
  },
  {
   "cell_type": "markdown",
   "metadata": {},
   "source": [
    "## Set plotting settings for illustrative pathways"
   ]
  },
  {
   "cell_type": "code",
   "execution_count": null,
   "metadata": {},
   "outputs": [],
   "source": [
    "_rc = {\n",
    "    'S1': dict(linewidth=3, linestyle='--'),\n",
    "    'S2': dict(linewidth=4, linestyle=':'),\n",
    "    'S5': dict(linewidth=3, linestyle='-.'),\n",
    "    'LED': dict(linewidth=3, linestyle='-'),\n",
    "}"
   ]
  },
  {
   "cell_type": "code",
   "execution_count": null,
   "metadata": {},
   "outputs": [],
   "source": [
    "def line_plot_with_markers(ax, _df, name, panel):\n",
    "    _data = _df.filter(category=cats_15, keep=False).data\n",
    "    ax.plot(pyam.plotting.reshape_line_plot(_data, 'year', 'value'),\n",
    "            color='lightgrey')\n",
    "    ax.scatter(x=[], y=[], c='lightgrey', label='all scenarios')\n",
    "    y_pos = max(_data.value) - 0.05 * (max(_data.value) - min(_data.value))\n",
    "\n",
    "    _data = _df.filter(category=cats_15).data\n",
    "    ax.plot(pyam.plotting.reshape_line_plot(_data, 'year', 'value'),\n",
    "            color='xkcd:baby blue')\n",
    "    ax.scatter(x=[], y=[], c='xkcd:baby blue', label='1.5°C pathways')\n",
    "\n",
    "    for m in marker:\n",
    "        _data = _df.filter(marker=m).data\n",
    "        if not _data.empty:\n",
    "            ax.plot(pyam.plotting.reshape_line_plot(_data, 'year', 'value'),\n",
    "                    color='xkcd:darkish blue', **_rc[m], label=m)\n",
    "    \n",
    "    ax.set_ylabel('{} ({})'.format(name, _data.unit.unique()[0]))\n",
    "    pyam.plotting.set_panel_label('({})'.format(panel), ax=ax)"
   ]
  },
  {
   "cell_type": "code",
   "execution_count": null,
   "metadata": {},
   "outputs": [],
   "source": [
    "fig, ax = plt.subplots(2, 2, figsize=(8, 6))\n",
    "\n",
    "pop = df.filter(variable='Population')\n",
    "pop.convert_unit('million', 'billion', factor=1/1000, inplace=True)\n",
    "line_plot_with_markers(ax[0][0], pop, 'Population', 'a')\n",
    "\n",
    "gdp = df.filter(variable='GDP|PPP')\n",
    "gdp.convert_unit('billion US$2010/yr', 'trillion US$2010/yr', factor=1/1000, inplace=True)\n",
    "line_plot_with_markers(ax[0][1], gdp, 'Gross World Product', 'b')\n",
    "\n",
    "final = df.filter(variable='Final Energy')\n",
    "line_plot_with_markers(ax[1][0], final, 'Final Energy Demand', 'c')\n",
    "\n",
    "food =  df.filter(variable='Food Demand')\n",
    "line_plot_with_markers(ax[1][1], food, 'Food Demand', 'd')\n",
    "\n",
    "ax[0][0].legend(loc=1)\n",
    "fig.tight_layout()"
   ]
  },
  {
   "cell_type": "code",
   "execution_count": null,
   "metadata": {},
   "outputs": [],
   "source": [
    "fig.savefig('output/fig2.4_drivers_assumptions.png')"
   ]
  },
  {
   "cell_type": "markdown",
   "metadata": {},
   "source": [
    "## Export timeseries data to `xlsx`"
   ]
  },
  {
   "cell_type": "code",
   "execution_count": null,
   "metadata": {},
   "outputs": [],
   "source": [
    "writer = pd.ExcelWriter('output/fig2.4_data_table.xlsx')\n",
    "pyam.utils.write_sheet(writer, 'population', pyam.filter_by_meta(pop.timeseries(), **filter_args),\n",
    "                       index=True)\n",
    "pyam.utils.write_sheet(writer, 'gdp', pyam.filter_by_meta(gdp.timeseries(), **filter_args),\n",
    "                       index=True)\n",
    "pyam.utils.write_sheet(writer, 'final energy', pyam.filter_by_meta(final.timeseries(), **filter_args),\n",
    "                       index=True)\n",
    "pyam.utils.write_sheet(writer, 'food demand', pyam.filter_by_meta(food.timeseries(), **filter_args),\n",
    "                       index=True)\n",
    "writer.save()"
   ]
  },
  {
   "cell_type": "code",
   "execution_count": null,
   "metadata": {},
   "outputs": [],
   "source": []
  }
 ],
 "metadata": {
  "kernelspec": {
   "display_name": "Python 3 (ipykernel)",
   "language": "python",
   "name": "python3"
  },
  "language_info": {
   "codemirror_mode": {
    "name": "ipython",
    "version": 3
   },
   "file_extension": ".py",
   "mimetype": "text/x-python",
   "name": "python",
   "nbconvert_exporter": "python",
   "pygments_lexer": "ipython3",
   "version": "3.7.16"
  }
 },
 "nbformat": 4,
 "nbformat_minor": 2
}
