{
 "cells": [
  {
   "cell_type": "markdown",
   "metadata": {},
   "source": [
    "### *IPCC SR15 scenario assessment*\n",
    "\n",
    "<img style=\"float: right; height: 120px; margin-top: 10px;\" src=\"../_static/IIASA_logo.png\">\n",
    "<img style=\"float: right; height: 100px;\" src=\"../_static/IAMC_logo.jpg\">\n",
    "\n",
    "# Scenario categorization and indicators\n",
    "\n",
    "This notebook assigns the categorization by warming outcome and computes a range of descriptive indicators\n",
    "for the scenario assessment of the IPCC's _\"Special Report on Global Warming of 1.5°C\"_.\n",
    "It generates a `sr15_metadata_indicators.xlsx` spreadsheet, which is used in other notebooks for this assessment\n",
    "for categorization and extracting descriptive indicators.\n",
    "\n",
    "## Scenario ensemble data\n",
    "\n",
    "The scenario data used in this analysis can be accessed and downloaded at [https://data.ene.iiasa.ac.at/iamc-1.5c-explorer](https://data.ene.iiasa.ac.at/iamc-1.5c-explorer).\n",
    "\n",
    "Bibliographic details of the scenario ensemble and all studies that contributed scenarios to the ensemble\n",
    "are included in this repository\n",
    "as [Endnote (enl)](../bibliography/iamc_1.5c_scenario_data.enl),\n",
    "[Reference Manager (ris)](../bibliography/iamc_1.5c_scenario_data.ris),\n",
    "and [BibTex (bib)](../bibliography/iamc_1.5c_scenario_data.bib) format.\n",
    "\n",
    "## License and recommended citation\n",
    "\n",
    "This notebook is licensed under the Apache License, Version 2.0.\n",
    "\n",
    "Please refer to the [README](../README.md) for the recommended citation of the scenario ensemble and the notebooks in this repository.\n",
    "\n",
    "***"
   ]
  },
  {
   "cell_type": "markdown",
   "metadata": {},
   "source": [
    "## Import dependencies and define general notebook settings"
   ]
  },
  {
   "cell_type": "code",
   "execution_count": null,
   "metadata": {},
   "outputs": [],
   "source": [
    "!which python"
   ]
  },
  {
   "cell_type": "code",
   "execution_count": null,
   "metadata": {},
   "outputs": [],
   "source": [
    "!conda list"
   ]
  },
  {
   "cell_type": "code",
   "execution_count": null,
   "metadata": {},
   "outputs": [],
   "source": [
    "import sys\n",
    "sys.path"
   ]
  },
  {
   "cell_type": "code",
   "execution_count": null,
   "metadata": {},
   "outputs": [],
   "source": [
    "import math\n",
    "import io\n",
    "import yaml\n",
    "import re\n",
    "import pandas as pd\n",
    "import numpy as np\n",
    "from IPython.display import display"
   ]
  },
  {
   "cell_type": "markdown",
   "metadata": {},
   "source": [
    "### Introduction and tutorial for the `pyam` package\n",
    "\n",
    "This notebook (and all other analysis notebooks in this repository) uses the `pyam` package,\n",
    "an open-source Python package for IAM scenario analysis and visualization\n",
    "([pyam-iamc.readthedocs.io](https://pyam-iamc.readthedocs.io)).\n",
    "\n",
    "For an introduction of the notation and features of the `pyam` package,\n",
    "please refer to [this tutorial](https://github.com/IAMconsortium/pyam/blob/master/doc/source/tutorials/pyam_first_steps.ipynb).  \n",
    "It will take you through the basic functions and options used here,\n",
    "and provide further introduction and guidelines."
   ]
  },
  {
   "cell_type": "code",
   "execution_count": null,
   "metadata": {},
   "outputs": [],
   "source": [
    "import pyam\n",
    "logger = pyam.logger"
   ]
  },
  {
   "cell_type": "markdown",
   "metadata": {},
   "source": [
    "### Import Matplotlib and set figure layout defaults in line with SR1.5 guidelines"
   ]
  },
  {
   "cell_type": "code",
   "execution_count": null,
   "metadata": {},
   "outputs": [],
   "source": [
    "import matplotlib.pyplot as plt\n",
    "plt.style.use('style_sr15.mplstyle')"
   ]
  },
  {
   "cell_type": "markdown",
   "metadata": {},
   "source": [
    "## Import scenario snapshot and define auxiliary dictionaries\n",
    "\n",
    "This notebook only assigns indicator based on global timeseries data.\n",
    "\n",
    "The dictionary `meta_tables` is used to collect definitions\n",
    "of categories and secondary scenario classification throughout this script.\n",
    "These definitions are exported to the metadata/categorization Excel workbook\n",
    "at the end of the script for completeness.\n",
    "The dictionary `meta_docs` collects definitions used for the documentation tags\n",
    "in the online scenario explorer.\n",
    "\n",
    "The dictionary `specs` collects lists and the run control specifications to be exported to JSON\n",
    "and used by other notebooks for the SR1.5 scenario analysis.\n",
    "\n",
    "The `plotting_args` dictionary assigns the default plotting arguemnts in this notebook."
   ]
  },
  {
   "cell_type": "code",
   "execution_count": null,
   "metadata": {},
   "outputs": [],
   "source": [
    "sr1p5 = pyam.IamDataFrame(data='../data/iamc15_scenario_data_world_r2.0.xlsx')"
   ]
  },
  {
   "cell_type": "code",
   "execution_count": null,
   "metadata": {},
   "outputs": [],
   "source": [
    "meta_tables = {}\n",
    "meta_docs = {}"
   ]
  },
  {
   "cell_type": "code",
   "execution_count": null,
   "metadata": {},
   "outputs": [],
   "source": [
    "specs = {}"
   ]
  },
  {
   "cell_type": "code",
   "execution_count": null,
   "metadata": {},
   "outputs": [],
   "source": [
    "plotting_args = {'color': 'category', 'linewidth': 0.2}\n",
    "specs['plotting_args'] = plotting_args"
   ]
  },
  {
   "cell_type": "markdown",
   "metadata": {},
   "source": [
    "## Verify completeness of scenario submissions for key variables\n",
    "\n",
    "Verify that every scenario except for *Shell Sky* and the historical reference scenarios reports CO2 Emissions in 2030."
   ]
  },
  {
   "cell_type": "code",
   "execution_count": null,
   "metadata": {},
   "outputs": [],
   "source": [
    "sr1p5.require_variable(variable='Emissions|CO2', year=2030, exclude_on_fail=False)"
   ]
  },
  {
   "cell_type": "markdown",
   "metadata": {},
   "source": [
    "## Check MAGICC postprocessing prior to categorization\n",
    "\n",
    "Assign scenarios that could not be postprocessed by probabilistic MAGICC to respective categories:  \n",
    " - data not available for full century\n",
    " - insufficient reporting of emission species\n",
    " - reference scenario"
   ]
  },
  {
   "cell_type": "code",
   "execution_count": null,
   "metadata": {},
   "outputs": [],
   "source": [
    "sr1p5.set_meta(name='category', meta= 'uncategorized')"
   ]
  },
  {
   "cell_type": "code",
   "execution_count": null,
   "metadata": {},
   "outputs": [],
   "source": [
    "reference = sr1p5.filter(model='Reference')\n",
    "pd.DataFrame(index=reference.meta.index)"
   ]
  },
  {
   "cell_type": "code",
   "execution_count": null,
   "metadata": {},
   "outputs": [],
   "source": [
    "sr1p5.set_meta(meta='reference', name='category', index=reference)"
   ]
  },
  {
   "cell_type": "code",
   "execution_count": null,
   "metadata": {},
   "outputs": [],
   "source": [
    "no_climate_assessment = (\n",
    "    sr1p5.filter(category='uncategorized').meta.index\n",
    "    .difference(sr1p5.filter(year=2100, variable='Emissions|CO2').meta.index)\n",
    ")\n",
    "pd.DataFrame(index=no_climate_assessment)"
   ]
  },
  {
   "cell_type": "code",
   "execution_count": null,
   "metadata": {},
   "outputs": [],
   "source": [
    "sr1p5.set_meta(meta='no-climate-assessment', name='category', index=no_climate_assessment)"
   ]
  },
  {
   "cell_type": "markdown",
   "metadata": {},
   "source": [
    "## Categorization of scenarios\n",
    "\n",
    "This section applies the categorization of scenario as defined in Chapter 2 of the Special Report\n",
    "for unique assignment of scenarios.\n",
    "\n",
    "The category specification as agreed upon at LAM 3 in Malmö is repeated here for easier reference.\n",
    "\n",
    "The term $P_{x°C}$ refers to the probability of exceeding warming of $x°C$ throughout the century in at least one year\n",
    "and $P_{x°C}(y)$ refers to the probability of exceedance in a specific year $y$.\n",
    "\n",
    "|**Categories** |**Subcategories**|**Probability to exceed warming threshold**|**Acronym**      |**Color**       |\n",
    "|---------------|-----------------|-------------------------------------------|-----------------|----------------|\n",
    "| Below 1.5°C   | Below 1.5°C (I) | $P_{1.5°C} \\leq 0.34$                      | Below 1.5C (I)  | xkcd:baby blue |\n",
    "|               | Below 1.5°C (II)| $0.34 < P_{1.5°C} \\leq 0.50$               | Below 1.5C (II) |                |\n",
    "| 1.5°C return with low OS | Lower 1.5°C return with low OS | $0.50 < P_{1.5°C} \\leq 0.67$ and $P_{1.5°C}(2100) \\leq 0.34$ |(Lower) 1.5C low OS | xkcd:bluish |\n",
    "|               | Higher 1.5°C return with low OS | $0.50 < P_{1.5°C} \\leq 0.67$ and $0.34 < P_{1.5°C}(2100) \\leq 0.50$ |(Higher) 1.5C low OS |             |\n",
    "| 1.5°C return with high OS | Lower 1.5°C return with high OS  | $0.67 < P_{1.5°C}$ and $P_{1.5°C}(2100) \\leq 0.34$ | (Lower) 1.5C high OS | xkcd:darkish blue |\n",
    "|               | Higher 1.5°C return with high OS | $0.67 < P_{1.5°C}$ and $0.34 < P_{1.5°C}(2100) \\leq 0.50$ | (Higher) 1.5C high OS |             |\n",
    "| Lower 2.0°C   |                 | $P_{2.0°C} \\leq 0.34$ (excluding above)        | Lower 2C      | xkcd:orange |\n",
    "| Higher 2.0°C  |                 | $0.34 < P_{2.0°C} \\leq 0.50$ (excluding above) | Higher 2C     | xkcd:red    | \n",
    "| Above 2.0°C   |                 | $P_{2.0°C} > 0.50$ for at least 1 year         | Above 2C      | darkgrey    | "
   ]
  },
  {
   "cell_type": "markdown",
   "metadata": {},
   "source": [
    "### Category definitions to Excel\n",
    "\n",
    "The following dictionary repeats the category definitions from the table above\n",
    "and saves them as a `pandas.DataFrame` to a dictionary `meta_tables`.\n",
    "Throughout the notebook, this dictionary is used to collect definitions\n",
    "of categories and secondary scenario classification.\n",
    "These definitions are exported to the metadata/categorization Excel workbook\n",
    "at the end of the script for easy reference."
   ]
  },
  {
   "cell_type": "code",
   "execution_count": null,
   "metadata": {},
   "outputs": [],
   "source": [
    "dct = {'Categories of scenarios': \n",
    "           ['Below 1.5°C', \n",
    "            '', \n",
    "            '1.5°C return with low overshoot',\n",
    "            '',\n",
    "            '1.5°C return with high overshoot',\n",
    "            '',\n",
    "            'Lower 2.0°C',\n",
    "            'Higher 2.0°C',\n",
    "            'Above 2.0°C'],\n",
    "        'Subcategories': \n",
    "           ['Below 1.5°C (I)', \n",
    "            'Below 1.5°C (II)', \n",
    "            'Lower 1.5°C return with low overshoot',\n",
    "            'Higher 1.5°C return with low overshoot',\n",
    "            'Lower 1.5°C return with high overshoot',\n",
    "            'Higher 1.5°C return with high overshoot',\n",
    "            '',\n",
    "            '',\n",
    "            ''],\n",
    "       'Criteria for assignment to category':\n",
    "           ['P1.5°C ≤ 0.34',\n",
    "            '0.34 < P1.5°C ≤ 0.50',\n",
    "            '0.50 < P1.5°C ≤ 0.67 and P1.5°C(2100) ≤ 0.34',\n",
    "            '0.50 < P1.5°C ≤ 0.67 and 0.34 < P1.5°C(2100) ≤ 0.50',\n",
    "            '0.67 < P1.5°C and P1.5°C(2100) ≤ 0.34',\n",
    "            '0.67 < P1.5°C and 0.34 < P1.5°C(2100) ≤ 0.50',\n",
    "            'P2.0°C ≤ 0.34 (excluding above)',\n",
    "            '0.34 < P2.0°C ≤ 0.50 (excluding above)',\n",
    "            'P2.0°C > 0.50 during at least 1 year'\n",
    "           ],\n",
    "       'Acronym':\n",
    "           ['Below 1.5C (I)',\n",
    "            'Below 1.5C (II)',\n",
    "            'Lower 1.5C low overshoot',\n",
    "            'Higher 1.5C low overshoot',\n",
    "            'Lower 1.5C high overshoot',\n",
    "            'Higher 1.5C high overshoot',\n",
    "            'Lower 2C',\n",
    "            'Higher 2C',\n",
    "            'Above 2C'],\n",
    "        'Color':\n",
    "           ['xkcd:baby blue',\n",
    "            '',\n",
    "            'xkcd:bluish',\n",
    "            '',\n",
    "            'xkcd:darkish blue',\n",
    "            '',\n",
    "            'xkcd:orange',\n",
    "            'xkcd:red',\n",
    "            'darkgrey']\n",
    "      }\n",
    "cols = ['Categories of scenarios', 'Subcategories', 'Criteria for assignment to category', 'Acronym', 'Color']\n",
    "categories_doc = pd.DataFrame(dct)[cols]\n",
    "meta_tables['categories'] = categories_doc\n",
    "meta_docs['category'] = 'Categorization of scenarios by global warming impact'\n",
    "meta_docs['subcategory'] = 'Sub-categorization of scenarios by global warming impact'"
   ]
  },
  {
   "cell_type": "code",
   "execution_count": null,
   "metadata": {},
   "outputs": [],
   "source": [
    "other_cats = ['no-climate-assessment', 'reference']\n",
    "\n",
    "cats = ['Below 1.5C', '1.5C low overshoot', '1.5C high overshoot', 'Lower 2C', 'Higher 2C', 'Above 2C']\n",
    "all_cats = cats + other_cats\n",
    "\n",
    "subcats = dct['Acronym']\n",
    "all_subcats = subcats + other_cats"
   ]
  },
  {
   "cell_type": "code",
   "execution_count": null,
   "metadata": {},
   "outputs": [],
   "source": [
    "specs['cats'] = cats\n",
    "specs['all_cats'] = all_cats\n",
    "\n",
    "specs['subcats'] = subcats\n",
    "specs['all_subcats'] = all_subcats"
   ]
  },
  {
   "cell_type": "markdown",
   "metadata": {},
   "source": [
    "### Subcategory assignment\n",
    "\n",
    "We first assign the subcategories, then aggregate those assignment to the main categories.\n",
    "The categories assigned above to indicate reasons for non-processing by MAGICC are copied over to the subcategories.\n",
    "\n",
    "Keep in mind that setting a category will re-assign scenarios (in case they have already been assigned).\n",
    "So in case of going back and forth in this notebook (i.e., not executing the cells in the correct order), \n",
    "make sure to reset the categorization."
   ]
  },
  {
   "cell_type": "code",
   "execution_count": null,
   "metadata": {},
   "outputs": [],
   "source": [
    "def warming_exccedance_prob(x):\n",
    "    return 'AR5 climate diagnostics|Temperature|Exceedance Probability|{} °C|MAGICC6'.format(x)\n",
    "\n",
    "expected_warming = 'AR5 climate diagnostics|Temperature|Global Mean|MAGICC6|Expected value'\n",
    "median_warming = 'AR5 climate diagnostics|Temperature|Global Mean|MAGICC6|MED'"
   ]
  },
  {
   "cell_type": "code",
   "execution_count": null,
   "metadata": {},
   "outputs": [],
   "source": [
    "sr1p5.set_meta(meta=sr1p5['category'], name='subcategory')"
   ]
  },
  {
   "cell_type": "code",
   "execution_count": null,
   "metadata": {},
   "outputs": [],
   "source": [
    "pyam.categorize(sr1p5, exclude=False, subcategory='uncategorized',\n",
    "                value='Below 1.5C (I)', name='subcategory',\n",
    "                criteria={warming_exccedance_prob(1.5): {'up': 0.34}},\n",
    "                color='xkcd:baby blue')"
   ]
  },
  {
   "cell_type": "code",
   "execution_count": null,
   "metadata": {},
   "outputs": [],
   "source": [
    "pyam.categorize(sr1p5, exclude=False, subcategory='uncategorized',\n",
    "                value='Below 1.5C (II)', name='subcategory',\n",
    "                criteria={warming_exccedance_prob(1.5): {'up': 0.50}},\n",
    "                color='xkcd:baby blue')"
   ]
  },
  {
   "cell_type": "markdown",
   "metadata": {},
   "source": [
    "To categorize by a variable using multiple filters (here: less than 66% probability of exceeding 1.5°C at any point during the century and less than 34% probability of exceeding that threshold in 2100) requires to perform the assignment in three steps - first, categorize to an intermediate `low OS` category and, in a second step, assign to the category in question. The third step resets all scenarios still categorized as intermediate after the second step back to `uncategorized`."
   ]
  },
  {
   "cell_type": "code",
   "execution_count": null,
   "metadata": {},
   "outputs": [],
   "source": [
    "pyam.categorize(sr1p5, exclude=False, subcategory='uncategorized',\n",
    "                value='low overshoot', name='subcategory',\n",
    "                criteria={warming_exccedance_prob(1.5): {'up': 0.67}})"
   ]
  },
  {
   "cell_type": "code",
   "execution_count": null,
   "metadata": {},
   "outputs": [],
   "source": [
    "pyam.categorize(sr1p5, exclude=False, subcategory='low overshoot',\n",
    "                value='Lower 1.5C low overshoot', name='subcategory',\n",
    "                criteria={warming_exccedance_prob(1.5): {'up': 0.34, 'year': 2100}},\n",
    "                color='xkcd:bluish')"
   ]
  },
  {
   "cell_type": "code",
   "execution_count": null,
   "metadata": {},
   "outputs": [],
   "source": [
    "pyam.categorize(sr1p5, exclude=False, subcategory='low overshoot',\n",
    "                value='Higher 1.5C low overshoot', name='subcategory',\n",
    "                criteria={warming_exccedance_prob(1.5): {'up': 0.50, 'year': 2100}},\n",
    "                color='xkcd:bluish')"
   ]
  },
  {
   "cell_type": "markdown",
   "metadata": {},
   "source": [
    "Display scenarios that satisfy the `low overshoot` criterion\n",
    "but are not assigned to `Lower 1.5C lower overshoot` or `Higher 1.5C lower overshoot`.\n",
    "Then, reset them to uncategorized."
   ]
  },
  {
   "cell_type": "code",
   "execution_count": null,
   "metadata": {},
   "outputs": [],
   "source": [
    "sr1p5.filter(subcategory='low overshoot').meta"
   ]
  },
  {
   "cell_type": "code",
   "execution_count": null,
   "metadata": {},
   "outputs": [],
   "source": [
    "sr1p5.set_meta(meta='uncategorized', name='subcategory', index=sr1p5.filter(subcategory='low overshoot'))"
   ]
  },
  {
   "cell_type": "markdown",
   "metadata": {},
   "source": [
    "Determine all scenarios with a probability to exceed 1.5°C greater than 66% in any year throughout the century.\n",
    "The function `categorize()` cannot be used for this selection, because it would either check for the criteria being true for all years or for a particular year."
   ]
  },
  {
   "cell_type": "code",
   "execution_count": null,
   "metadata": {},
   "outputs": [],
   "source": [
    "df = sr1p5.filter(exclude=False, subcategory='uncategorized', variable=warming_exccedance_prob(1.5)).timeseries()\n",
    "sr1p5.set_meta(meta='high overshoot', name='subcategory', \n",
    "               index=df[df.apply(lambda x: max(x), axis=1) > 0.66].index)"
   ]
  },
  {
   "cell_type": "code",
   "execution_count": null,
   "metadata": {},
   "outputs": [],
   "source": [
    "pyam.categorize(sr1p5, exclude=False, subcategory='high overshoot',\n",
    "                value='Lower 1.5C high overshoot', name='subcategory',\n",
    "                criteria={warming_exccedance_prob(1.5): {'up': 0.34, 'year': 2100}},\n",
    "                color='xkcd:darkish blue')"
   ]
  },
  {
   "cell_type": "code",
   "execution_count": null,
   "metadata": {},
   "outputs": [],
   "source": [
    "pyam.categorize(sr1p5, exclude=False, subcategory='high overshoot',\n",
    "                value='Higher 1.5C high overshoot', name='subcategory',\n",
    "                criteria={warming_exccedance_prob(1.5): {'up': 0.50, 'year': 2100}},\n",
    "                color='xkcd:darkish blue')"
   ]
  },
  {
   "cell_type": "markdown",
   "metadata": {},
   "source": [
    "Reset scenarios that satisfy the `high overshoot` criterion\n",
    "but are not assigned to `Lower 1.5C high overshoot` or `Higher 1.5C high overshoot`."
   ]
  },
  {
   "cell_type": "code",
   "execution_count": null,
   "metadata": {},
   "outputs": [],
   "source": [
    "sr1p5.set_meta(meta='uncategorized', name='subcategory', index=sr1p5.filter(subcategory='high overshoot'))"
   ]
  },
  {
   "cell_type": "code",
   "execution_count": null,
   "metadata": {},
   "outputs": [],
   "source": [
    "pyam.categorize(sr1p5, exclude=False, subcategory='uncategorized',\n",
    "                value='Lower 2C', name='subcategory',\n",
    "                criteria={warming_exccedance_prob(2.0): {'up': 0.34}},\n",
    "                color='xkcd:orange')"
   ]
  },
  {
   "cell_type": "code",
   "execution_count": null,
   "metadata": {},
   "outputs": [],
   "source": [
    "pyam.categorize(sr1p5, exclude=False, subcategory='uncategorized',\n",
    "                value='Higher 2C', name='subcategory',\n",
    "                criteria={warming_exccedance_prob(2.0): {'up': 0.50}},\n",
    "                color='xkcd:red')"
   ]
  },
  {
   "cell_type": "code",
   "execution_count": null,
   "metadata": {},
   "outputs": [],
   "source": [
    "pyam.categorize(sr1p5, exclude=False, subcategory='uncategorized',\n",
    "                value='Above 2C', name='subcategory',\n",
    "                criteria={warming_exccedance_prob(2.0): {'up': 1.0}},\n",
    "                color='darkgrey')"
   ]
  },
  {
   "cell_type": "markdown",
   "metadata": {},
   "source": [
    "### Aggregation of subcategories to categories"
   ]
  },
  {
   "cell_type": "code",
   "execution_count": null,
   "metadata": {},
   "outputs": [],
   "source": [
    "rc = pyam.run_control()\n",
    "def assign_rc_color_from_sub(cat, sub):\n",
    "    rc.update({'color': {'category': {cat: rc['color']['subcategory'][sub]}}})"
   ]
  },
  {
   "cell_type": "code",
   "execution_count": null,
   "metadata": {},
   "outputs": [],
   "source": [
    "sr1p5.set_meta(meta='Below 1.5C', name='category',\n",
    "               index=sr1p5.filter(subcategory=['Below 1.5C (I)', 'Below 1.5C (II)']).meta.index)\n",
    "assign_rc_color_from_sub('Below 1.5C', 'Below 1.5C (II)')"
   ]
  },
  {
   "cell_type": "code",
   "execution_count": null,
   "metadata": {},
   "outputs": [],
   "source": [
    "sr1p5.set_meta(meta='1.5C low overshoot', name='category',\n",
    "               index=sr1p5.filter(subcategory=['Lower 1.5C low overshoot', 'Higher 1.5C low overshoot']))\n",
    "assign_rc_color_from_sub('1.5C low overshoot', 'Lower 1.5C low overshoot')"
   ]
  },
  {
   "cell_type": "code",
   "execution_count": null,
   "metadata": {},
   "outputs": [],
   "source": [
    "sr1p5.set_meta(meta='1.5C high overshoot', name='category',\n",
    "               index=sr1p5.filter(subcategory=['Lower 1.5C high overshoot', 'Higher 1.5C high overshoot']))\n",
    "assign_rc_color_from_sub('1.5C high overshoot', 'Lower 1.5C high overshoot')"
   ]
  },
  {
   "cell_type": "code",
   "execution_count": null,
   "metadata": {},
   "outputs": [],
   "source": [
    "cats_non15 = ['Lower 2C', 'Higher 2C', 'Above 2C']\n",
    "df_2c = sr1p5.filter(subcategory=cats_non15)\n",
    "sr1p5.set_meta(meta=df_2c['subcategory'], name='category')\n",
    "\n",
    "for c in cats_non15:\n",
    "    assign_rc_color_from_sub(c, c)"
   ]
  },
  {
   "cell_type": "markdown",
   "metadata": {},
   "source": [
    "### Additional assessment of categorization\n",
    "\n",
    "Check whether there are any scenarios that return to 1.5°C by the end of the century and exceed the 2°C threshold with a likelyhood higher than 34% or 50% (i.e., the `Lower 2C` or the `Higher 2C` categories respectively). Having scenario categorized as `1.5C` but with a higher-than-50% probability of exceeding 2°C at some point in the century may need to be considered separately in subsequent assessment."
   ]
  },
  {
   "cell_type": "code",
   "execution_count": null,
   "metadata": {},
   "outputs": [],
   "source": [
    "cats_15 = ['Below 1.5C', '1.5C low overshoot', '1.5C high overshoot']\n",
    "specs['cats_15'] = cats_15"
   ]
  },
  {
   "cell_type": "code",
   "execution_count": null,
   "metadata": {},
   "outputs": [],
   "source": [
    "cats_15_no_lo = ['Below 1.5C', '1.5C low overshoot']\n",
    "specs['cats_15_no_lo'] = cats_15_no_lo"
   ]
  },
  {
   "cell_type": "code",
   "execution_count": null,
   "metadata": {},
   "outputs": [],
   "source": [
    "cats_2 = ['Lower 2C', 'Higher 2C']\n",
    "specs['cats_2'] = cats_2"
   ]
  },
  {
   "cell_type": "code",
   "execution_count": null,
   "metadata": {},
   "outputs": [],
   "source": [
    "df = sr1p5.filter(exclude=False, category=cats_15, variable=warming_exccedance_prob(2.0)).timeseries()\n",
    "ex_prob_2 = df.apply(lambda x: max(x))"
   ]
  },
  {
   "cell_type": "code",
   "execution_count": null,
   "metadata": {},
   "outputs": [],
   "source": [
    "if max(ex_prob_2) > 0.34:\n",
    "    logger.warning('The following 1.5C-scenarios are not `Lower 2C` scenarios:')\n",
    "    display(df[df.apply(lambda x: max(x), axis=1) > 0.34])"
   ]
  },
  {
   "cell_type": "code",
   "execution_count": null,
   "metadata": {},
   "outputs": [],
   "source": [
    "if max(ex_prob_2) > 0.50:\n",
    "    logger.warning('The following 1.5C-scenarios are not `2C` scenarios:')\n",
    "    display(df[df.apply(lambda x: max(x), axis=1) > 0.50])"
   ]
  },
  {
   "cell_type": "markdown",
   "metadata": {},
   "source": [
    "### Counting and evaluation of scenario assignment categories\n",
    "\n",
    "Count the number of scenarios assigned to each category.\n",
    "\n",
    "This table is the basis for **Tables 2.1 and 2.A.11** in the SR1.5."
   ]
  },
  {
   "cell_type": "code",
   "execution_count": null,
   "metadata": {},
   "outputs": [],
   "source": [
    "lst = sr1p5.meta.groupby(['category', 'subcategory']).count()\n",
    "(\n",
    "    lst\n",
    "    .reindex(all_cats, axis='index', level=0)\n",
    "    .reindex(all_subcats, axis='index', level=1)\n",
    "    .rename(columns={'exclude': 'count'})\n",
    ")"
   ]
  },
  {
   "cell_type": "markdown",
   "metadata": {},
   "source": [
    "Check whether any scenarios are still marked as `uncategorized`. This may be due to missing MAGICC postprocessing."
   ]
  },
  {
   "cell_type": "code",
   "execution_count": null,
   "metadata": {},
   "outputs": [],
   "source": [
    "if any(sr1p5['category'] == 'uncategorized'):\n",
    "    logger.warning('There are scenarios that are no yet categorized!')\n",
    "    display(sr1p5.filter(category='uncategorized').meta)"
   ]
  },
  {
   "cell_type": "markdown",
   "metadata": {},
   "source": [
    "## Validation of Kyoto GHG emissions range (SAR-GWP100)\n",
    "\n",
    "Validate all scenarios whther aggregate Kyoto gases are outside the range as assessed by the Second Assessment Report (SAR) using the Global Warming Potential over 100 years (GWP100). These scenarios are excluded from some figures and tables in the assessment."
   ]
  },
  {
   "cell_type": "code",
   "execution_count": null,
   "metadata": {},
   "outputs": [],
   "source": [
    "invalid_sar_gwp = sr1p5.validate(criteria={'Emissions|Kyoto Gases (SAR-GWP100)':\n",
    "                                 {'lo': 44500, 'up': 53500, 'year':2010}}, exclude_on_fail=False)"
   ]
  },
  {
   "cell_type": "code",
   "execution_count": null,
   "metadata": {},
   "outputs": [],
   "source": [
    "name='Kyoto-GHG|2010 (SAR)'\n",
    "sr1p5.set_meta(meta='in range', name=name)\n",
    "sr1p5.set_meta(meta='exclude', name=name, index=invalid_sar_gwp)\n",
    "\n",
    "meta_docs[name] = 'Indicator whether 2010 Kyoto-GHG reported by the scenario (as assessed by IPCC SAR) are in the valid range'"
   ]
  },
  {
   "cell_type": "markdown",
   "metadata": {},
   "source": [
    "## Assignment of baseline scenarios\n",
    "\n",
    "This section assigns a `baseline` reference for scenarios from selected model intercomparison projects and indivitual submissions."
   ]
  },
  {
   "cell_type": "code",
   "execution_count": null,
   "metadata": {},
   "outputs": [],
   "source": [
    "def set_baseline_reference(x):\n",
    "    m, s = (x[0], x[1])\n",
    "    \n",
    "    b = None\n",
    "    if s.startswith('SSP') and not 'Baseline' in s:\n",
    "        b = '{}Baseline'.format(s[0:5])\n",
    "    if s.startswith('CD-LINKS') and not 'NoPolicy' in s:\n",
    "        b = '{}NoPolicy'.format(s[0:9])\n",
    "    if s.startswith('EMF33') and not 'Baseline' in s:\n",
    "        b = '{}Baseline'.format(s[0:6])\n",
    "    if s.startswith('ADVANCE') and not 'NoPolicy' in s:\n",
    "        b = '{}NoPolicy'.format(s[0:8])\n",
    "    if s.startswith('GEA') and not 'base' in s:\n",
    "        b = '{}base'.format(s[0:8])\n",
    "    if s.startswith('TERL') and not 'Baseline' in s:\n",
    "        b = s.replace('15D', 'Baseline').replace('2D', 'Baseline')\n",
    "    if s.startswith('SFCM') and not 'Baseline' in s:\n",
    "        b = s.replace('1p5Degree', 'Baseline').replace('2Degree', 'Baseline')\n",
    "    if s.startswith('CEMICS') and not s == 'CEMICS-Ref':\n",
    "        b = 'CEMICS-Ref'\n",
    "    if s.startswith('SMP') and not 'REF' in s:\n",
    "        if s.endswith('Def') or s.endswith('regul'):\n",
    "            b = 'SMP_REF_Def'\n",
    "        else:\n",
    "            b = 'SMP_REF_Sust'\n",
    "    if s.startswith('DAC'):\n",
    "        b = 'BAU'\n",
    "    \n",
    "    # check that baseline scenario exists for specific model `m`\n",
    "    if (m, b) in sr1p5.meta.index:\n",
    "        return b\n",
    "    # else (or if scenario name not in list above), return None\n",
    "    return None"
   ]
  },
  {
   "cell_type": "code",
   "execution_count": null,
   "metadata": {},
   "outputs": [],
   "source": [
    "name = 'baseline'\n",
    "sr1p5.set_meta(sr1p5.meta.apply(set_baseline_reference, raw=True, axis=1), name)\n",
    "meta_docs[name] = 'Name of the respective baseline (or reference/no-policy) scenario'"
   ]
  },
  {
   "cell_type": "markdown",
   "metadata": {},
   "source": [
    "## Assignent of marker scenarios\n",
    "\n",
    "The following scenarios are used as marker throughout the analysis and visualization, cf. Figure 2.7 (SOD):\n",
    "\n",
    "|**Marker**  |**Model & scenario name**       |**Reference**                  | **Symbol**      |\n",
    "|------------|--------------------------------|-------------------------------|-----------------|\n",
    "| *S1*       | AIM/CGE 2.0 / SSP1-19              | Fujimori et al., 2017         | `white square`  |\n",
    "| *S2*       | MESSAGE-GLOBIOM 1.0 / SSP2-19  | Fricko et al., 2017           | `yellow square` |\n",
    "| *S5*       | REMIND-MAgPIE 1.5 / SSP5-19    | Kriegler et al., 2017         | `black square`  |\n",
    "| *LED*      | MESSAGEix-GLOBIOM 1.0 / LowEnergyDemand | Grubler et al., 2018 | `white circle`  |"
   ]
  },
  {
   "cell_type": "code",
   "execution_count": null,
   "metadata": {},
   "outputs": [],
   "source": [
    "dct = {'Marker': \n",
    "           ['S1', \n",
    "            'S2', \n",
    "            'S5',\n",
    "            'LED'],\n",
    "        'Model and scenario name': \n",
    "           ['AIM/CGE 2.0 / SSP1-19', \n",
    "            'MESSAGE-GLOBIOM 1.0 / SSP2-19', \n",
    "            'REMIND-MAgPIE 1.5 / SSP5-19',\n",
    "            'MESSAGEix-GLOBIOM 1.0 / LowEnergyDemand'],\n",
    "       'Reference':\n",
    "           ['Fujimori et al., 2017',\n",
    "            'Fricko et al., 2017',\n",
    "            'Kriegler et al., 2017',\n",
    "            'Grubler et al., 2018'],\n",
    "       'Symbol':\n",
    "           ['white square',\n",
    "            'yellow square',\n",
    "            'black square',\n",
    "            'white circle']\n",
    "}\n",
    "cols = ['Marker', 'Model and scenario name', 'Reference', 'Symbol']\n",
    "markers_doc = pd.DataFrame(dct)[cols]\n",
    "meta_tables['marker scenarios'] = markers_doc\n",
    "meta_docs['marker'] = 'Illustrative pathways (marker scenarios)'"
   ]
  },
  {
   "cell_type": "code",
   "execution_count": null,
   "metadata": {},
   "outputs": [],
   "source": [
    "specs['marker'] = ['S1', 'S2', 'S5', 'LED']"
   ]
  },
  {
   "cell_type": "code",
   "execution_count": null,
   "metadata": {},
   "outputs": [],
   "source": [
    "sr1p5.set_meta('', 'marker')\n",
    "rc.update({'marker': {'marker': {'': None}}})"
   ]
  },
  {
   "cell_type": "code",
   "execution_count": null,
   "metadata": {},
   "outputs": [],
   "source": [
    "m = 'S1'\n",
    "sr1p5.set_meta(m, 'marker',\n",
    "               sr1p5.filter(model='AIM/CGE 2.0', scenario='SSP1-19'))\n",
    "rc.update({'marker': {'marker': {m: 's'}},\n",
    "           'c': {'marker': {m: 'white'}},\n",
    "           'edgecolors': {'marker': {m: 'black'}}}\n",
    "         )"
   ]
  },
  {
   "cell_type": "code",
   "execution_count": null,
   "metadata": {},
   "outputs": [],
   "source": [
    "m = 'S2'\n",
    "sr1p5.set_meta(m, 'marker',\n",
    "               sr1p5.filter(model='MESSAGE-GLOBIOM 1.0', scenario='SSP2-19'))\n",
    "rc.update({'marker': {'marker': {m: 's'}},\n",
    "           'c': {'marker': {m: 'yellow'}},\n",
    "           'edgecolors': {'marker': {m: 'black'}}})"
   ]
  },
  {
   "cell_type": "code",
   "execution_count": null,
   "metadata": {},
   "outputs": [],
   "source": [
    "m = 'S5'\n",
    "sr1p5.set_meta(m, 'marker',\n",
    "               sr1p5.filter(model='REMIND-MAgPIE 1.5', scenario='SSP5-19'))\n",
    "rc.update({'marker': {'marker': {m: 's'}},\n",
    "           'c': {'marker': {m: 'black'}},\n",
    "           'edgecolors': {'marker': {m: 'black'}}})"
   ]
  },
  {
   "cell_type": "code",
   "execution_count": null,
   "metadata": {},
   "outputs": [],
   "source": [
    "m = 'LED'\n",
    "sr1p5.set_meta(m, 'marker',\n",
    "               sr1p5.filter(model='MESSAGEix-GLOBIOM 1.0', scenario='LowEnergyDemand'))\n",
    "rc.update({'marker': {'marker': {m: 'o'}},\n",
    "           'c': {'marker': {m: 'white'}},\n",
    "           'edgecolors': {'marker': {m: 'black'}}})"
   ]
  },
  {
   "cell_type": "markdown",
   "metadata": {},
   "source": [
    "## Visual analysis of emission and temperature pathways by category\n",
    "\n",
    "First, we plot all carbon dioxide emissions trajectories colored by category and the CO2 emissions from the AFOLU sector. Then, show the warming trajectories by category."
   ]
  },
  {
   "cell_type": "code",
   "execution_count": null,
   "metadata": {},
   "outputs": [],
   "source": [
    "horizon = list(range(2000, 2020, 5)) + list(range(2020, 2101, 10))\n",
    "df = sr1p5.filter(year=horizon)"
   ]
  },
  {
   "cell_type": "code",
   "execution_count": null,
   "metadata": {},
   "outputs": [],
   "source": [
    "df.filter(exclude=False, variable='Emissions|CO2').line_plot(**plotting_args, marker='marker')"
   ]
  },
  {
   "cell_type": "code",
   "execution_count": null,
   "metadata": {},
   "outputs": [],
   "source": [
    "df.filter(exclude=False, variable='Emissions|CO2|AFOLU').line_plot(**plotting_args, marker='marker')"
   ]
  },
  {
   "cell_type": "code",
   "execution_count": null,
   "metadata": {},
   "outputs": [],
   "source": [
    "df.filter(exclude=False, variable=expected_warming).line_plot(**plotting_args, marker='marker')"
   ]
  },
  {
   "cell_type": "markdown",
   "metadata": {},
   "source": [
    "## Import scientific references and publication status\n",
    "The following block reads in an Excel table with the details of the scientific references for each scenario.\n",
    "\n",
    "The main cell of this section loops over all entries in this Excel table, filters for the relevant scenarios,\n",
    "and assigns a short reference and the publication status. If multiple references are relevant for a scenario, the references are compiled, and the 'highest' publication status is written to the metadata."
   ]
  },
  {
   "cell_type": "code",
   "execution_count": null,
   "metadata": {},
   "outputs": [],
   "source": [
    "ref_cols = ['project', 'model', 'scenario', 'reference', 'doi', 'bibliography']"
   ]
  },
  {
   "cell_type": "code",
   "execution_count": null,
   "metadata": {},
   "outputs": [],
   "source": [
    "sr1p5.set_meta('undefined', 'reference')\n",
    "sr1p5.set_meta('unknown', 'project')"
   ]
  },
  {
   "cell_type": "code",
   "execution_count": null,
   "metadata": {},
   "outputs": [],
   "source": [
    "refs = pd.read_csv('../bibliography/scenario_references.csv', encoding='iso-8859-1')\n",
    "\n",
    "_refs = {'index': []}\n",
    "for i in ref_cols:\n",
    "    _refs.update({i.title(): []})"
   ]
  },
  {
   "cell_type": "code",
   "execution_count": null,
   "metadata": {},
   "outputs": [],
   "source": [
    "for cols in refs.iterrows():\n",
    "    c = cols[1]\n",
    "    filters = {}\n",
    "    \n",
    "    # check that filters are defined\n",
    "    if c.model is np.NaN and c.scenario is np.NaN:\n",
    "        logger.warn('project `{}` on line {} has no filters assigned'\n",
    "                    .format(c.project, cols[0]))\n",
    "        continue\n",
    "\n",
    "    # filter for scenarios to apply the project and publication tags\n",
    "    filters = {}\n",
    "    for i in ['model', 'scenario']:\n",
    "        if c[i] is not np.NaN:\n",
    "            if \";\" in c[i]:\n",
    "                filters.update({i: re.sub(\";\", \"\", c[i]).split()})\n",
    "            else:\n",
    "                filters.update({i: c[i]})\n",
    "    \n",
    "    df = sr1p5.filter(**filters)\n",
    "    if df.scenarios().empty:\n",
    "        logger.warn('no scenarios satisfy filters for project `{}` on line {} ({})'\n",
    "                    .format(c.project, cols[0], filters))\n",
    "        continue\n",
    "\n",
    "    # write to meta-tables dictionary\n",
    "    _refs['index'].append(cols[0])\n",
    "    for i in ref_cols:\n",
    "        _refs[i.title()].append(c[i])\n",
    "\n",
    "    sr1p5.meta.loc[df.meta.index, 'project'] = c['project']\n",
    "\n",
    "    for i in df.meta.index:\n",
    "        r = c['reference']\n",
    "        sr1p5.meta.loc[i, 'reference'] = r if sr1p5.meta.loc[i, 'reference'] == 'undefined' \\\n",
    "            else '{}; {}'.format(sr1p5.meta.loc[i, 'reference'], r)"
   ]
  },
  {
   "cell_type": "code",
   "execution_count": null,
   "metadata": {},
   "outputs": [],
   "source": [
    "cols = [i.title() for i in ref_cols]\n",
    "meta_tables['references'] = pd.DataFrame(_refs)[cols]\n",
    "meta_docs['reference'] = 'Scientific references'\n",
    "meta_docs['project'] = 'Project identifier contributing the scenario'"
   ]
  },
  {
   "cell_type": "markdown",
   "metadata": {},
   "source": [
    "## Peak warming and indicator of median global warming peak-and-decline\n",
    "\n",
    "Determine peak warming (relative to pre-industrial temperature) and end-of century warming \n",
    "and add this to the scenario metadata.\n",
    "Then, compute the \"peak-and-decline\" indicator as the difference between peak warming and warming in 2100."
   ]
  },
  {
   "cell_type": "code",
   "execution_count": null,
   "metadata": {},
   "outputs": [],
   "source": [
    "def peak_warming(x, return_year=False):\n",
    "    peak = x[x == x.max()]\n",
    "    if return_year:\n",
    "        return peak.index[0]\n",
    "    else:\n",
    "        return float(max(peak))"
   ]
  },
  {
   "cell_type": "code",
   "execution_count": null,
   "metadata": {},
   "outputs": [],
   "source": [
    "median_temperature = sr1p5.filter(variable=median_warming).timeseries()"
   ]
  },
  {
   "cell_type": "code",
   "execution_count": null,
   "metadata": {},
   "outputs": [],
   "source": [
    "name = 'median warming at peak (MAGICC6)'\n",
    "sr1p5.set_meta(median_temperature.apply(peak_warming, raw=False, axis=1), name)\n",
    "meta_docs[name] = 'median warming above pre-industrial temperature at peak (°C) as computed by MAGICC6'"
   ]
  },
  {
   "cell_type": "code",
   "execution_count": null,
   "metadata": {},
   "outputs": [],
   "source": [
    "name = 'year of peak warming (MAGICC6)'\n",
    "sr1p5.set_meta(median_temperature.apply(peak_warming, return_year=True, raw=False, axis=1), name)\n",
    "meta_docs[name] = 'year of peak median warming as computed by MAGICC6'"
   ]
  },
  {
   "cell_type": "code",
   "execution_count": null,
   "metadata": {},
   "outputs": [],
   "source": [
    "name = 'median warming in 2100 (MAGICC6)'\n",
    "sr1p5.set_meta(median_temperature[2100], name)\n",
    "meta_docs[name] = 'median warming above at peak above pre-industrial temperature as computed by MAGICC6'"
   ]
  },
  {
   "cell_type": "code",
   "execution_count": null,
   "metadata": {},
   "outputs": [],
   "source": [
    "name = 'median warming peak-and-decline (MAGICC6)'\n",
    "peak_decline = sr1p5['median warming at peak (MAGICC6)'] - sr1p5['median warming in 2100 (MAGICC6)']\n",
    "sr1p5.set_meta(peak_decline, name)\n",
    "meta_docs[name] = 'median warming peak-and-decline from peak to temperature in 2100 (°C) as computed by MAGICC6'"
   ]
  },
  {
   "cell_type": "markdown",
   "metadata": {},
   "source": [
    "### Add mean temperature at peak from 'FAIR' model diagnostics"
   ]
  },
  {
   "cell_type": "code",
   "execution_count": null,
   "metadata": {},
   "outputs": [],
   "source": [
    "median_temperature_fair = sr1p5.filter(variable='AR5 climate diagnostics|Temperature|Global Mean|FAIR|MED')\\\n",
    "    .timeseries()"
   ]
  },
  {
   "cell_type": "code",
   "execution_count": null,
   "metadata": {},
   "outputs": [],
   "source": [
    "name = 'median warming at peak (FAIR)'\n",
    "sr1p5.set_meta(median_temperature_fair.apply(peak_warming, raw=False, axis=1), name)\n",
    "meta_docs[name] = 'median warming above pre-industrial temperature at peak (°C) as computed by FAIR'"
   ]
  },
  {
   "cell_type": "code",
   "execution_count": null,
   "metadata": {},
   "outputs": [],
   "source": [
    "name = 'year of peak warming (FAIR)'\n",
    "sr1p5.set_meta(median_temperature_fair.apply(peak_warming, return_year=True, raw=False, axis=1), name)\n",
    "meta_docs[name] = 'year of peak median warming as computed by FAIR'"
   ]
  },
  {
   "cell_type": "code",
   "execution_count": null,
   "metadata": {},
   "outputs": [],
   "source": [
    "fig, ax = plt.subplots()\n",
    "sr1p5.filter(category=cats).scatter(ax=ax,\n",
    "                                    x='median warming at peak (MAGICC6)',\n",
    "                                    y='median warming at peak (FAIR)', color='category')\n",
    "ax.plot(ax.get_xlim(), ax.get_xlim())"
   ]
  },
  {
   "cell_type": "code",
   "execution_count": null,
   "metadata": {},
   "outputs": [],
   "source": [
    "import matplotlib\n",
    "matplotlib.__version__"
   ]
  },
  {
   "cell_type": "code",
   "execution_count": null,
   "metadata": {},
   "outputs": [],
   "source": [
    "fig, ax = plt.subplots()\n",
    "sr1p5.scatter(ax=ax, x='year of peak warming (MAGICC6)', y='year of peak warming (FAIR)', color='category')\n",
    "ax.plot(ax.get_xlim(), ax.get_xlim())"
   ]
  },
  {
   "cell_type": "markdown",
   "metadata": {},
   "source": [
    "## Computation of threshold exceedance year and 'overshoot' year count\n",
    "\n",
    "Determine the year when a scenario exceeds a specific temperature threshold, \n",
    "and for how many years the threshold is exceeded.  \n",
    "\n",
    "This section uses the function ``exceedance()`` to determine the exceedance and return years.\n",
    "The function ``overshoot_severity()`` computes the cumulative exceedance of the 1.5°C threshold\n",
    "(i.e., the sum of temperature-years above the threshold)."
   ]
  },
  {
   "cell_type": "code",
   "execution_count": null,
   "metadata": {},
   "outputs": [],
   "source": [
    "def exceedance(temperature, years, threshold):\n",
    "    exceedance_yr = None\n",
    "    return_yr = None\n",
    "    overshoot_yr_count = None\n",
    "    prev_temp = 0\n",
    "    prev_yr = None\n",
    "\n",
    "    for yr, curr_temp in zip(years, temperature):\n",
    "        if np.isnan(curr_temp):\n",
    "            continue\n",
    "        \n",
    "        if exceedance_yr is None and curr_temp > threshold:\n",
    "            x = (curr_temp - prev_temp) / (yr - prev_yr) # temperature change per year\n",
    "            exceedance_yr = prev_yr + int((threshold - prev_temp) / x) + 1 # add one because int() rounds down\n",
    "        if exceedance_yr is not None and return_yr is None and curr_temp < threshold:\n",
    "            x = (prev_temp - curr_temp) / (yr - prev_yr) # temperature change per year\n",
    "            return_yr = prev_yr + int((prev_temp - threshold) / x) + 1\n",
    "        prev_temp = curr_temp\n",
    "        prev_yr = yr\n",
    "\n",
    "    if return_yr is not None and exceedance_yr is not None:\n",
    "        overshoot_yr_count = int(return_yr - exceedance_yr)\n",
    "    if exceedance_yr is not None:\n",
    "        exceedance_yr = int(exceedance_yr)\n",
    "    if return_yr is not None:\n",
    "        return_yr = int(return_yr)\n",
    "\n",
    "    return [exceedance_yr, return_yr, overshoot_yr_count]"
   ]
  },
  {
   "cell_type": "code",
   "execution_count": null,
   "metadata": {},
   "outputs": [],
   "source": [
    "exceedance_meta = median_temperature.apply(exceedance, axis=1, raw=True,\n",
    "                                           years=median_temperature.columns, threshold=1.5)"
   ]
  },
  {
   "cell_type": "code",
   "execution_count": null,
   "metadata": {},
   "outputs": [],
   "source": [
    "name = 'exceedance year|1.5°C'\n",
    "sr1p5.set_meta(exceedance_meta.apply(lambda x: x[0]), name)\n",
    "meta_docs[name] = 'year in which the 1.5°C median warming threshold is exceeded'\n",
    "\n",
    "name = 'return year|1.5°C'\n",
    "sr1p5.set_meta(exceedance_meta.apply(lambda x: x[1]), name)\n",
    "meta_docs[name] = 'year in which median warming returns below the 1.5°C threshold'\n",
    "\n",
    "name = 'overshoot years|1.5°C'\n",
    "sr1p5.set_meta(exceedance_meta.apply(lambda x: x[2]), name)\n",
    "meta_docs[name] = 'number of years where 1.5°C median warming threshold is exceeded'"
   ]
  },
  {
   "cell_type": "code",
   "execution_count": null,
   "metadata": {},
   "outputs": [],
   "source": [
    "def overshoot_severity(x, meta):\n",
    "    exceedance_yr = meta.loc[x.name[0:2]]['exceedance year|1.5°C']\n",
    "    return_yr = meta.loc[x.name[0:2]]['return year|1.5°C'] - 1 \n",
    "    # do not include year in which mean temperature returns to below 1.5\n",
    "    if exceedance_yr > 0 and return_yr > 0:\n",
    "        return pyam.cumulative(x, exceedance_yr, return_yr) - (return_yr - exceedance_yr + 1) * 1.5"
   ]
  },
  {
   "cell_type": "code",
   "execution_count": null,
   "metadata": {},
   "outputs": [],
   "source": [
    "name = 'exceedance severity|1.5°C'\n",
    "sr1p5.set_meta(median_temperature.apply(overshoot_severity, axis=1, raw=False, meta=sr1p5.meta), name)\n",
    "meta_docs[name] = 'sum of median temperature exceeding the 1.5°C threshold'"
   ]
  },
  {
   "cell_type": "code",
   "execution_count": null,
   "metadata": {},
   "outputs": [],
   "source": [
    "exceedance_meta = median_temperature.apply(exceedance, axis=1, raw=True,\n",
    "                                           years=median_temperature.columns, threshold=2)"
   ]
  },
  {
   "cell_type": "code",
   "execution_count": null,
   "metadata": {},
   "outputs": [],
   "source": [
    "name = 'exceedance year|2.0°C'\n",
    "sr1p5.set_meta(exceedance_meta.apply(lambda x: x[0]), name)\n",
    "meta_docs[name] = 'year in which the 2.0°C median warming threshold is exceeded'\n",
    "\n",
    "name = 'return year|2.0°C'\n",
    "sr1p5.set_meta(exceedance_meta.apply(lambda x: x[1]), name)\n",
    "meta_docs[name] = 'year in which median warming returns below the 2.0°C threshold'\n",
    "\n",
    "name = 'overshoot years|2.0°C'\n",
    "sr1p5.set_meta(exceedance_meta.apply(lambda x: x[2]), name)\n",
    "meta_docs[name] = 'number of years where 2.0°C median warming threshold is exceeded'"
   ]
  },
  {
   "cell_type": "markdown",
   "metadata": {},
   "source": [
    "## Secondary categorization and meta-data assignment according to CO2 emissions"
   ]
  },
  {
   "cell_type": "markdown",
   "metadata": {},
   "source": [
    "### Defining the range for cumulative indicators and units\n",
    "\n",
    "All cumulative indicators are computed over the time horizon 2016-2100 (including the year 2100 in every summation)."
   ]
  },
  {
   "cell_type": "code",
   "execution_count": null,
   "metadata": {},
   "outputs": [],
   "source": [
    "baseyear = 2016\n",
    "lastyear = 2100"
   ]
  },
  {
   "cell_type": "code",
   "execution_count": null,
   "metadata": {},
   "outputs": [],
   "source": [
    "def filter_and_convert(variable):\n",
    "    return (sr1p5\n",
    "            .filter(variable=variable)\n",
    "            .convert_unit('Mt CO2/yr', 'Gt CO2/yr')\n",
    "            .timeseries()\n",
    "           )\n",
    "\n",
    "unit = 'Gt CO2/yr'\n",
    "cumulative_unit = 'Gt CO2'"
   ]
  },
  {
   "cell_type": "code",
   "execution_count": null,
   "metadata": {},
   "outputs": [],
   "source": [
    "co2 = filter_and_convert('Emissions|CO2')"
   ]
  },
  {
   "cell_type": "code",
   "execution_count": null,
   "metadata": {},
   "outputs": [],
   "source": [
    "name = 'minimum net CO2 emissions ({})'.format(unit)\n",
    "sr1p5.set_meta(co2.apply(np.nanmin, axis=1), name)\n",
    "meta_docs[name] = 'Minimum of net CO2 emissions over the century ({})'.format(unit)"
   ]
  },
  {
   "cell_type": "markdown",
   "metadata": {},
   "source": [
    "### Indicators from cumulative CO2 emissions over the entire century (2016-2100)\n",
    "\n",
    "Compute the total cumulative CO2 emissions for secondary categorization of scenarios.\n",
    "Cumulative CO2 emissions are a first-order proxy for global mean temperature change.\n",
    "Emissions are interpolated linearly between years. The `last_year` value is included in the summation.\n",
    "\n",
    "The function `pyam.cumulative()` defined below aggregates timeseries values from `first_year` until `last_year`,\n",
    "including both first and last year in the total. The function assumes linear interpolation for years where no values are provided."
   ]
  },
  {
   "cell_type": "code",
   "execution_count": null,
   "metadata": {},
   "outputs": [],
   "source": [
    "name = 'cumulative CO2 emissions ({}-{}, {})'.format(baseyear, lastyear, cumulative_unit)\n",
    "sr1p5.set_meta(co2.apply(pyam.cumulative, raw=False, axis=1, first_year=baseyear, last_year=lastyear), name)\n",
    "meta_docs[name] = 'Cumulative net CO2 emissions from {} until {} (including the last year, {})'.format(\n",
    "    baseyear, lastyear, cumulative_unit)"
   ]
  },
  {
   "cell_type": "code",
   "execution_count": null,
   "metadata": {},
   "outputs": [],
   "source": [
    "ccs = filter_and_convert('Carbon Sequestration|CCS')"
   ]
  },
  {
   "cell_type": "code",
   "execution_count": null,
   "metadata": {},
   "outputs": [],
   "source": [
    "cum_ccs_label = 'cumulative CCS ({}-{}, {})'.format(baseyear, lastyear, cumulative_unit)\n",
    "sr1p5.set_meta(ccs.apply(pyam.cumulative, raw=False, axis=1, first_year=baseyear, last_year=lastyear), cum_ccs_label)\n",
    "meta_docs[cum_ccs_label] = 'Cumulative carbon capture and sequestration from {} until {} (including the last year, {})'\\\n",
    "    .format(baseyear, lastyear, cumulative_unit)"
   ]
  },
  {
   "cell_type": "code",
   "execution_count": null,
   "metadata": {},
   "outputs": [],
   "source": [
    "beccs = filter_and_convert('Carbon Sequestration|CCS|Biomass')"
   ]
  },
  {
   "cell_type": "code",
   "execution_count": null,
   "metadata": {},
   "outputs": [],
   "source": [
    "cum_beccs_label = 'cumulative BECCS ({}-{}, {})'.format(baseyear, lastyear, cumulative_unit)\n",
    "sr1p5.set_meta(beccs.apply(pyam.cumulative, raw=False, axis=1, first_year=baseyear, last_year=lastyear), cum_beccs_label)\n",
    "meta_docs[cum_beccs_label] = 'Cumulative carbon capture and sequestration from bioenergy from {} until {} (including the last year, {})'.format(\n",
    "    baseyear, lastyear, cumulative_unit)"
   ]
  },
  {
   "cell_type": "markdown",
   "metadata": {},
   "source": [
    "Issue [#9](https://github.com/iiasa/ipcc_sr15_scenario_analysis/issues/9) requested to add the data for scenario where timeseries data for bioenergy with CCS was not provided explicitly (and hence not captured by the computation above) but could implicitly by assessed from the CCS timeseries data."
   ]
  },
  {
   "cell_type": "code",
   "execution_count": null,
   "metadata": {},
   "outputs": [],
   "source": [
    "filled_ccs = sr1p5.meta[sr1p5.meta[cum_ccs_label] == 0][cum_beccs_label]"
   ]
  },
  {
   "cell_type": "code",
   "execution_count": null,
   "metadata": {},
   "outputs": [],
   "source": [
    "sr1p5.set_meta(name=cum_beccs_label, meta=0, index=filled_ccs[filled_ccs.isna()].index)"
   ]
  },
  {
   "cell_type": "code",
   "execution_count": null,
   "metadata": {},
   "outputs": [],
   "source": [
    "seq_lu = filter_and_convert('Carbon Sequestration|Land Use')"
   ]
  },
  {
   "cell_type": "code",
   "execution_count": null,
   "metadata": {},
   "outputs": [],
   "source": [
    "name = 'cumulative sequestration land-use ({}-{}, {})'.format(baseyear, lastyear, cumulative_unit)\n",
    "sr1p5.set_meta(seq_lu.apply(pyam.cumulative, raw=False, axis=1, first_year=baseyear, last_year=lastyear), name)\n",
    "meta_docs[name] = 'Cumulative carbon sequestration from land use from {} until {} (including the last year, {})'.format(\n",
    "    baseyear, lastyear, cumulative_unit)"
   ]
  },
  {
   "cell_type": "markdown",
   "metadata": {},
   "source": [
    "### Cumulative CO2 emissions until peak warming"
   ]
  },
  {
   "cell_type": "code",
   "execution_count": null,
   "metadata": {},
   "outputs": [],
   "source": [
    "def get_from_meta_column(df, x, col):\n",
    "    val = df.meta.loc[x.name[0:2], col]\n",
    "    return val if val < np.inf else max(x.index)"
   ]
  },
  {
   "cell_type": "code",
   "execution_count": null,
   "metadata": {},
   "outputs": [],
   "source": [
    "name = 'cumulative CO2 emissions ({} to peak warming, {})'.format(baseyear, cumulative_unit)\n",
    "sr1p5.set_meta(co2.apply(lambda x: pyam.cumulative(x, first_year=baseyear,\n",
    "                                                   last_year=get_from_meta_column(sr1p5, x,\n",
    "                                                                                  'year of peak warming (MAGICC6)')),\n",
    "                         raw=False, axis=1), name)\n",
    "meta_docs[name] = 'cumulative net CO2 emissions from {} until the year of peak warming as computed by MAGICC6 (including the year of peak warming, {})'.format(\n",
    "    baseyear, cumulative_unit)"
   ]
  },
  {
   "cell_type": "code",
   "execution_count": null,
   "metadata": {},
   "outputs": [],
   "source": [
    "(\n",
    "    sr1p5\n",
    "    .filter(category=cats)\n",
    "    .scatter(x='cumulative CO2 emissions (2016 to peak warming, {})'.format(cumulative_unit),\n",
    "             y='median warming at peak (MAGICC6)', color='category')\n",
    ")"
   ]
  },
  {
   "cell_type": "markdown",
   "metadata": {},
   "source": [
    "### Cumulative CO2 emissions until net-zero of total emissions"
   ]
  },
  {
   "cell_type": "code",
   "execution_count": null,
   "metadata": {},
   "outputs": [],
   "source": [
    "def year_of_net_zero(data, years, threshold):\n",
    "    prev_val = 0\n",
    "    prev_yr = np.nan\n",
    "\n",
    "    for yr, val in zip(years, data):\n",
    "        if np.isnan(val):\n",
    "            continue\n",
    "        \n",
    "        if val < threshold:\n",
    "            x = (val - prev_val) / (yr - prev_yr) # absolute change per year\n",
    "            return prev_yr + int((threshold - prev_val) / x) + 1 # add one because int() rounds down\n",
    "        \n",
    "        prev_val = val\n",
    "        prev_yr = yr\n",
    "    return np.inf"
   ]
  },
  {
   "cell_type": "code",
   "execution_count": null,
   "metadata": {},
   "outputs": [],
   "source": [
    "name = 'year of netzero CO2 emissions'\n",
    "sr1p5.set_meta(co2.apply(year_of_net_zero, years=co2.columns, threshold=0, axis=1), name)\n",
    "meta_docs[name] = 'year in which net CO2 emissions reach zero'"
   ]
  },
  {
   "cell_type": "code",
   "execution_count": null,
   "metadata": {},
   "outputs": [],
   "source": [
    "name = 'cumulative CO2 emissions ({} to netzero, {})'.format(baseyear, cumulative_unit)\n",
    "sr1p5.set_meta(co2.apply(lambda x: pyam.cumulative(x, first_year=baseyear,\n",
    "                                                   last_year=get_from_meta_column(sr1p5, x,\n",
    "                                                                                  'year of netzero CO2 emissions')),\n",
    "                         raw=False, axis=1), name)\n",
    "meta_docs[name] = 'net CO2 emissions from {} until the year of peak warming (including the last year, {})'.format(\n",
    "    baseyear, cumulative_unit)"
   ]
  },
  {
   "cell_type": "code",
   "execution_count": null,
   "metadata": {},
   "outputs": [],
   "source": [
    "name = 'warming at netzero (MAGICC6)'\n",
    "sr1p5.set_meta(median_temperature.apply(lambda x: x[get_from_meta_column(sr1p5, x,\n",
    "                                                                         'year of netzero CO2 emissions')],\n",
    "                                        raw=False, axis=1), name)\n",
    "meta_docs[name] = 'median warming above pre-industrial temperatures in the year of net-zero CO2 emission (MAGICC, °C)'.format(\n",
    "    baseyear, cumulative_unit)"
   ]
  },
  {
   "cell_type": "code",
   "execution_count": null,
   "metadata": {},
   "outputs": [],
   "source": [
    "(\n",
    "    sr1p5\n",
    "    .scatter(x='cumulative CO2 emissions (2016 to netzero, {})'.format(cumulative_unit),\n",
    "             y='warming at netzero (MAGICC6)', color='category')\n",
    ")"
   ]
  },
  {
   "cell_type": "code",
   "execution_count": null,
   "metadata": {},
   "outputs": [],
   "source": [
    "fig, ax = plt.subplots()\n",
    "(\n",
    "    sr1p5\n",
    "    .scatter(ax=ax, x='cumulative CO2 emissions (2016 to peak warming, {})'.format(cumulative_unit),\n",
    "             y='cumulative CO2 emissions (2016 to netzero, {})'.format(cumulative_unit),\n",
    "             color='category')\n",
    ")\n",
    "ax.plot(ax.get_xlim(), ax.get_xlim())"
   ]
  },
  {
   "cell_type": "code",
   "execution_count": null,
   "metadata": {},
   "outputs": [],
   "source": [
    "fig, ax = plt.subplots()\n",
    "(\n",
    "    sr1p5\n",
    "    .scatter(ax=ax, x='median warming at peak (MAGICC6)',\n",
    "             y='warming at netzero (MAGICC6)', color='category')\n",
    ")\n",
    "x = np.linspace(*ax.get_xlim())\n",
    "ax.plot(ax.get_xlim(), ax.get_xlim())"
   ]
  },
  {
   "cell_type": "code",
   "execution_count": null,
   "metadata": {},
   "outputs": [],
   "source": [
    "fig, ax = plt.subplots()\n",
    "(\n",
    "    sr1p5\n",
    "    .scatter(ax=ax, x='median warming in 2100 (MAGICC6)',\n",
    "             y='warming at netzero (MAGICC6)', color='category')\n",
    ")\n",
    "x = np.linspace(*ax.get_xlim())\n",
    "ax.plot(ax.get_xlim(), ax.get_xlim())"
   ]
  },
  {
   "cell_type": "markdown",
   "metadata": {},
   "source": [
    "## Categorization and meta-data assignment according to final energy demand\n",
    "\n",
    "Add a categorization column to the metadata categorization based on final energy demand at the end of the century."
   ]
  },
  {
   "cell_type": "code",
   "execution_count": null,
   "metadata": {},
   "outputs": [],
   "source": [
    "horizon = list(range(2000, 2020, 5)) + list(range(2020, 2101, 10))\n",
    "df = sr1p5.filter(year=horizon)"
   ]
  },
  {
   "cell_type": "code",
   "execution_count": null,
   "metadata": {},
   "outputs": [],
   "source": [
    "fe_df = df.filter(variable='Final Energy')\n",
    "fe_df.line_plot(**plotting_args, marker='marker')"
   ]
  },
  {
   "cell_type": "code",
   "execution_count": null,
   "metadata": {},
   "outputs": [],
   "source": [
    "fe = fe_df.timeseries()"
   ]
  },
  {
   "cell_type": "code",
   "execution_count": null,
   "metadata": {},
   "outputs": [],
   "source": [
    "name = 'final energy|2100'\n",
    "sr1p5.set_meta(fe[2100], name)\n",
    "meta_docs[name] = 'Final energy demand at the end of the century (EJ/yr)'"
   ]
  },
  {
   "cell_type": "markdown",
   "metadata": {},
   "source": [
    "## Indicators on carbon price development\n",
    "\n",
    "Retrieve the carbon price timeseries and derive the following indicators:\n",
    " - carbon price in 2030, 2050, and 2100 given both in 2010$ as reported by models and as NPV\n",
    " - simple average of NPV (2030-2100)\n",
    " - annual compounded NPV (2030-2100)\n",
    " - continuously compounded NPV (2030-2100)\n",
    "\n",
    "All net present values (NPV) are given relative to the year 2020.\n",
    "They are calculated assuming a 5% discount rate."
   ]
  },
  {
   "cell_type": "code",
   "execution_count": null,
   "metadata": {},
   "outputs": [],
   "source": [
    "dct = {'Indicator type': \n",
    "           ['Price by year',\n",
    "            'Price by year (as NPV)',\n",
    "            'Average (Avg) NPV',\n",
    "            'Annual compounded (AC) NPV)',\n",
    "            'Continuously compounded (CC) NPV',\n",
    "            '', 'Note on NPV'\n",
    "           ],\n",
    "       'Description':\n",
    "           ['Global carbon price as reported by each scenario',\n",
    "            'Global carbon price as reported by each scenario discounted to 2020 NPV',\n",
    "            'Cumulative NPV carbon price from 2030 until 2100 divided by number of years (71)',\n",
    "            'Annual compounded NPV carbon price from 2030 until 2100 divided by number of years (71)',\n",
    "            'Continuously compounded NPV carbon price from 2030 until 2100 divided by number of years (71)',\n",
    "            '', 'All NPV indicators are discounted to 2020 using a 5% discount rate'\n",
    "           ]\n",
    "      }\n",
    "meta_tables['carbon_price'] = pd.DataFrame(dct)[['Indicator type', 'Description']]"
   ]
  },
  {
   "cell_type": "code",
   "execution_count": null,
   "metadata": {},
   "outputs": [],
   "source": [
    "carbonprice_df = sr1p5.filter(variable='Price|Carbon', year=range(2020, 2101, 10))"
   ]
  },
  {
   "cell_type": "markdown",
   "metadata": {},
   "source": [
    "### Plot the carbon price trajectories by category\n",
    "\n",
    "There are some outlier scenarios with very high carbon prices, so the following cell manually sets the limits of the y-axis."
   ]
  },
  {
   "cell_type": "code",
   "execution_count": null,
   "metadata": {},
   "outputs": [],
   "source": [
    "fig, ax = plt.subplots()\n",
    "carbonprice_df.filter(year=range(2020, 2101, 10)).line_plot(ax=ax, **plotting_args)\n",
    "plt.ylim(ymax=10000, ymin=0)"
   ]
  },
  {
   "cell_type": "markdown",
   "metadata": {},
   "source": [
    "### Show outliers for verification and assessment"
   ]
  },
  {
   "cell_type": "code",
   "execution_count": null,
   "metadata": {},
   "outputs": [],
   "source": [
    "carbon_price = carbonprice_df.timeseries()"
   ]
  },
  {
   "cell_type": "code",
   "execution_count": null,
   "metadata": {},
   "outputs": [],
   "source": [
    "carbon_price[carbon_price.apply(lambda x: max([i for i in x if not np.isnan(i)]) > 10000, axis=1)]"
   ]
  },
  {
   "cell_type": "markdown",
   "metadata": {},
   "source": [
    "### Compute net-present values of the carbon price"
   ]
  },
  {
   "cell_type": "code",
   "execution_count": null,
   "metadata": {},
   "outputs": [],
   "source": [
    "carbon_price_npv = carbon_price.copy()\n",
    "\n",
    "r = 0.05\n",
    "discount_year = 2020\n",
    "npv_first_year = 2030\n",
    "npv_last_year = 2100\n",
    "\n",
    "for y in carbon_price_npv.columns: \n",
    "    carbon_price_npv[y] = carbon_price_npv[y] / math.pow(1 + r, y - discount_year)"
   ]
  },
  {
   "cell_type": "code",
   "execution_count": null,
   "metadata": {},
   "outputs": [],
   "source": [
    "discount_docstring = ' from {} until {} including the last year, '.format(npv_first_year, npv_last_year) + \\\n",
    "    'discounted to {} using a {}% discount rate'.format(discount_year, r)"
   ]
  },
  {
   "cell_type": "code",
   "execution_count": null,
   "metadata": {},
   "outputs": [],
   "source": [
    "for y in [2030, 2050, 2100]:\n",
    "    name = 'carbon price|{}'.format(y)\n",
    "    sr1p5.set_meta(carbon_price[y], 'carbon price|{}'.format(y))\n",
    "    meta_docs[name] = 'carbon price in {} (2010USD/tCO2)'.format(y)\n",
    "    \n",
    "    name = 'carbon price|{} (NPV)'.format(y)\n",
    "    sr1p5.set_meta(carbon_price_npv[y], name)\n",
    "    meta_docs[name] = 'net-present value of carbon price in {} (2010USD/tCO2), discounted to {}'.format(\n",
    "        y, discount_year)"
   ]
  },
  {
   "cell_type": "code",
   "execution_count": null,
   "metadata": {},
   "outputs": [],
   "source": [
    "name = 'carbon price|Avg NPV (2030-2100)'\n",
    "sr1p5.set_meta(carbon_price_npv.apply(pyam.cumulative, first_year=2030, last_year=2100,\n",
    "                                      raw=False, axis=1)/71, name)\n",
    "meta_docs[name] = 'continuously compounded net-present value of carbon prices (2010USD/tCO2)' + discount_docstring"
   ]
  },
  {
   "cell_type": "code",
   "execution_count": null,
   "metadata": {},
   "outputs": [],
   "source": [
    "def compute_w1_annual(r, dt):\n",
    "    value = 0\n",
    "    for i in range(1, dt):  # range does not include the last element, but this is 0 in this formula\n",
    "        value += math.pow(1 / (1 + r), i) * (1 - i / dt)\n",
    "    return value\n",
    "\n",
    "def compute_w2_annual(r, dt):\n",
    "    value = 0\n",
    "    for i in range(1, dt + 1): # range does not include the last element\n",
    "        value += math.pow(1 / (1 + r), i - dt) * (i / dt)\n",
    "    return value\n",
    "\n",
    "w1_annual = {}\n",
    "w2_annual = {}"
   ]
  },
  {
   "cell_type": "code",
   "execution_count": null,
   "metadata": {},
   "outputs": [],
   "source": [
    "def compute_w1_compounded(r, dt):\n",
    "    return 1 / r - (1 - math.exp(-r * dt)) / (r * r * dt)\n",
    "\n",
    "def compute_w2_compounded(r, dt):\n",
    "    return - 1 / r + (math.exp(r * dt) - 1) / (r * r * dt)\n",
    "\n",
    "w1_compounded = {}\n",
    "w2_compounded = {}"
   ]
  },
  {
   "cell_type": "code",
   "execution_count": null,
   "metadata": {},
   "outputs": [],
   "source": [
    "# this function is an adaptation of 'pyam.timeseries:cumulative()'\n",
    "\n",
    "def npv_weighted(x, first_year, last_year, w1, w2, w1_function, w2_function, r):    \n",
    "    if min(x.index) > first_year or max(x.index) < last_year:\n",
    "        return np.nan\n",
    "\n",
    "    x[first_year] = pyam.fill_series(x, first_year)\n",
    "    x[last_year] = pyam.fill_series(x, last_year)\n",
    "\n",
    "    years = [i for i in x.index if i >= first_year and i <= last_year\n",
    "             and ~np.isnan(x[i])]\n",
    "    years.sort()\n",
    "\n",
    "    # loop over years\n",
    "    if not np.isnan(x[first_year]) and not np.isnan(x[last_year]):\n",
    "        value = 0\n",
    "        for (i, yr) in enumerate(years[:-1]):\n",
    "            next_yr = years[i+1]\n",
    "            dt = next_yr - yr\n",
    "            if dt not in w1.keys():\n",
    "                w1[dt] = w1_function(r, dt)\n",
    "            if dt not in w2.keys():\n",
    "                w2[dt] = w2_function(r, dt)               \n",
    "            # the summation is shifted to include the first year fully in sum,\n",
    "            # otherwise, would return a weighted average of `yr` and `next_yr`\n",
    "            value += w1[dt] * x[yr] + w2[dt] * x[next_yr]\n",
    "\n",
    "        # the loop above does not include the last element in range `last_year`,\n",
    "        # therefore added explicitly\n",
    "        value += x[last_year]\n",
    "\n",
    "        return value / (last_year - first_year + 1)"
   ]
  },
  {
   "cell_type": "code",
   "execution_count": null,
   "metadata": {},
   "outputs": [],
   "source": [
    "name = 'carbon price|AC NPV (2030-2100)'\n",
    "sr1p5.set_meta(carbon_price_npv.apply(npv_weighted, first_year=npv_first_year, last_year=npv_last_year,\n",
    "                                      w1=w1_annual, w2=w2_annual, \n",
    "                                      w1_function=compute_w1_annual, w2_function=compute_w2_annual, r=r,\n",
    "                                      raw=False, axis=1), name)\n",
    "meta_docs[name] = 'anually compounded net-present value of carbon prices (2010USD/tCO2)' + discount_docstring"
   ]
  },
  {
   "cell_type": "code",
   "execution_count": null,
   "metadata": {},
   "outputs": [],
   "source": [
    "name = 'carbon price|CC NPV (2030-2100)'\n",
    "sr1p5.set_meta(carbon_price_npv.apply(npv_weighted, first_year=npv_first_year, last_year=npv_last_year, \n",
    "                                      w1=w1_compounded, w2=w2_compounded, \n",
    "                                      w1_function=compute_w1_compounded, w2_function=compute_w2_compounded, r=r,\n",
    "                                      raw=False, axis=1), name)\n",
    "meta_docs[name] = 'continuously compounded net-present value of carbon prices (2010USD/tCO2)' + discount_docstring"
   ]
  },
  {
   "cell_type": "markdown",
   "metadata": {},
   "source": [
    "## View categorization and indicators, export metadata and grouping specifications\n",
    "\n",
    "The metadata (categorization and diagnostic indicators) is exported as an `xlsx` spreadsheet to be used by other scripts for subsequent analysis and visualization. The specifications of groupings and markers are exported as a `yaml` file to be imported by other notebooks."
   ]
  },
  {
   "cell_type": "code",
   "execution_count": null,
   "metadata": {},
   "outputs": [],
   "source": [
    "[i for i in sr1p5.meta.columns if i not in meta_docs.keys()]"
   ]
  },
  {
   "cell_type": "code",
   "execution_count": null,
   "metadata": {},
   "outputs": [],
   "source": [
    "sr1p5.meta.head()"
   ]
  },
  {
   "cell_type": "code",
   "execution_count": null,
   "metadata": {},
   "outputs": [],
   "source": [
    "_meta_docs = pd.DataFrame(meta_docs, index=[0]).T.reset_index()\n",
    "_meta_docs.rename(columns={'index': 'Category or indicator', 0: 'Description'}, inplace=True)"
   ]
  },
  {
   "cell_type": "code",
   "execution_count": null,
   "metadata": {},
   "outputs": [],
   "source": [
    "writer = pd.ExcelWriter('sr15_metadata_indicators.xlsx')\n",
    "pyam.utils.write_sheet(writer, 'meta', sr1p5.meta, index=True)\n",
    "pyam.utils.write_sheet(writer, 'categories_indicators_doc', _meta_docs, index=False)\n",
    "for name, df in meta_tables.items():\n",
    "    pyam.utils.write_sheet(writer, 'def_{}'.format(name), df)\n",
    "writer.save()"
   ]
  },
  {
   "cell_type": "code",
   "execution_count": null,
   "metadata": {},
   "outputs": [],
   "source": [
    "specs['run_control'] = rc"
   ]
  },
  {
   "cell_type": "code",
   "execution_count": null,
   "metadata": {},
   "outputs": [],
   "source": [
    "with io.open('sr15_specs.yaml', 'w', encoding='utf8') as outfile:\n",
    "    yaml.dump(specs, outfile, default_flow_style=False, allow_unicode=True)"
   ]
  },
  {
   "cell_type": "code",
   "execution_count": null,
   "metadata": {},
   "outputs": [],
   "source": []
  },
  {
   "cell_type": "code",
   "execution_count": null,
   "metadata": {},
   "outputs": [],
   "source": []
  },
  {
   "cell_type": "code",
   "execution_count": null,
   "metadata": {},
   "outputs": [],
   "source": []
  },
  {
   "cell_type": "code",
   "execution_count": null,
   "metadata": {},
   "outputs": [],
   "source": []
  }
 ],
 "metadata": {
  "kernelspec": {
   "display_name": "Python 3 (ipykernel)",
   "language": "python",
   "name": "python3"
  },
  "language_info": {
   "codemirror_mode": {
    "name": "ipython",
    "version": 3
   },
   "file_extension": ".py",
   "mimetype": "text/x-python",
   "name": "python",
   "nbconvert_exporter": "python",
   "pygments_lexer": "ipython3",
   "version": "3.7.16"
  }
 },
 "nbformat": 4,
 "nbformat_minor": 2
}
