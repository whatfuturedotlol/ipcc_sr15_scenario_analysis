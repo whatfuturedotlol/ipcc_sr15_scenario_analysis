{
 "cells": [
  {
   "cell_type": "markdown",
   "metadata": {},
   "source": [
    "### *IPCC SR15 scenario assessment*\n",
    "\n",
    "<img style=\"float: right; height: 80px; padding-left: 20px;\" src=\"../_static/IIASA_logo.png\">\n",
    "<img style=\"float: right; height: 80px;\" src=\"../_static/IAMC_logo.jpg\">\n",
    "\n",
    "# Characteristics of four illustrative model pathways\n",
    "## Figure 3b of the *Summary for Policymakers*\n",
    "\n",
    "This notebook derives the figure panels and indicators for the table in Figure 3b in the Summary for Policymakers\n",
    "of the IPCC's _\"Special Report on Global Warming of 1.5°C\"_.\n",
    "\n",
    "The scenario data used in this analysis can be accessed and downloaded at [https://data.ene.iiasa.ac.at/iamc-1.5c-explorer](https://data.ene.iiasa.ac.at/iamc-1.5c-explorer)."
   ]
  },
  {
   "cell_type": "markdown",
   "metadata": {},
   "source": [
    "## Load `pyam` package and other dependencies"
   ]
  },
  {
   "cell_type": "code",
   "execution_count": 1,
   "metadata": {},
   "outputs": [
    {
     "data": {
      "application/javascript": [
       "IPython.OutputArea.prototype._should_scroll = function(lines) { return false; }"
      ],
      "text/plain": [
       "<IPython.core.display.Javascript object>"
      ]
     },
     "metadata": {},
     "output_type": "display_data"
    },
    {
     "name": "stderr",
     "output_type": "stream",
     "text": [
      "pyam - INFO: Running in a notebook, setting `pyam` logging level to `logging.INFO` and adding stderr handler\n"
     ]
    }
   ],
   "source": [
    "import pandas as pd\n",
    "import numpy as np\n",
    "import io\n",
    "import itertools\n",
    "import yaml\n",
    "import math\n",
    "import matplotlib.pyplot as plt\n",
    "plt.style.use('style_sr15.mplstyle')\n",
    "%matplotlib inline\n",
    "import pyam"
   ]
  },
  {
   "cell_type": "markdown",
   "metadata": {},
   "source": [
    "## Import scenario data, categorization and specifications files\n",
    "\n",
    "The metadata file with scenario categorisation and quantitative indicators can be downloaded at [https://data.ene.iiasa.ac.at/iamc-1.5c-explorer](https://data.ene.iiasa.ac.at/iamc-1.5c-explorer).  \n",
    "Alternatively, it can be re-created using the notebook `sr15_2.0_categories_indicators`.\n",
    "\n",
    "The last cell of this section loads and assigns a number of auxiliary lists as defined in the categorization notebook."
   ]
  },
  {
   "cell_type": "code",
   "execution_count": 2,
   "metadata": {},
   "outputs": [
    {
     "name": "stderr",
     "output_type": "stream",
     "text": [
      "pyam.utils - INFO: Reading `../data/iamc15_scenario_data_world_r2.0.xlsx`\n"
     ]
    }
   ],
   "source": [
    "sr1p5 = pyam.IamDataFrame(data='../data/iamc15_scenario_data_world_r2.0.xlsx')"
   ]
  },
  {
   "cell_type": "code",
   "execution_count": 3,
   "metadata": {},
   "outputs": [
    {
     "name": "stderr",
     "output_type": "stream",
     "text": [
      "pyam.core - INFO: Importing metadata for 416 scenarios (for total of 416)\n"
     ]
    }
   ],
   "source": [
    "sr1p5.load_meta('sr15_metadata_indicators.xlsx')"
   ]
  },
  {
   "cell_type": "code",
   "execution_count": 4,
   "metadata": {},
   "outputs": [],
   "source": [
    "with open(\"sr15_specs.yaml\", 'r') as stream:\n",
    "    specs = yaml.load(stream, Loader=yaml.FullLoader)\n",
    "\n",
    "rc = pyam.run_control()\n",
    "for item in specs.pop('run_control').items():\n",
    "    rc.update({item[0]: item[1]})\n",
    "cats_15 = specs.pop('cats_15')\n",
    "cats_15_no_lo = specs.pop('cats_15_no_lo')\n",
    "marker = specs.pop('marker')"
   ]
  },
  {
   "cell_type": "markdown",
   "metadata": {},
   "source": [
    "## Downselect scenario ensemble to categories of interest for this assessment"
   ]
  },
  {
   "cell_type": "code",
   "execution_count": 5,
   "metadata": {},
   "outputs": [],
   "source": [
    "sr1p5.meta.rename(columns={'Kyoto-GHG|2010 (SAR)': 'kyoto_ghg_2010'}, inplace=True)"
   ]
  },
  {
   "cell_type": "code",
   "execution_count": 6,
   "metadata": {},
   "outputs": [],
   "source": [
    "df = sr1p5.filter(category=cats_15)"
   ]
  },
  {
   "cell_type": "markdown",
   "metadata": {},
   "source": [
    "## Global carbon dioxide emissions in four illustrative pathways\n",
    "\n",
    "Figure SPM3b shows the contribution to CO2 emissions and removal by three categories in the four illustrative pathways.\n",
    "\n",
    "This illustration does not use the emissions timeseries as reported by the models. This is because the variable `Emissions|CO2|Energy and Industrial Processes` represents net emissions, incorporating carbon dioxide removal in this sector.\n",
    "\n",
    "The steps below compute the gross emissions. The long variable names are mapped to short variables for easier readibility."
   ]
  },
  {
   "cell_type": "code",
   "execution_count": 7,
   "metadata": {},
   "outputs": [],
   "source": [
    "afolu_var = 'Emissions|CO2|AFOLU'\n",
    "ene_ind_var = 'Emissions|CO2|Energy and Industrial Processes'\n",
    "beccs_var ='Carbon Sequestration|CCS|Biomass'"
   ]
  },
  {
   "cell_type": "markdown",
   "metadata": {},
   "source": [
    "We downselect the entire data to the four illustrative pathways (`marker` scenarios) and the three variables of interest. For consistency with the figure in the SPM, the units are converted to Gt CO2."
   ]
  },
  {
   "cell_type": "code",
   "execution_count": 8,
   "metadata": {},
   "outputs": [],
   "source": [
    "pw = df.filter(marker=marker, variable=[afolu_var, ene_ind_var, beccs_var],\n",
    "               year=range(2010, 2101, 10))"
   ]
  },
  {
   "cell_type": "code",
   "execution_count": 9,
   "metadata": {},
   "outputs": [],
   "source": [
    "pw.convert_unit('Mt CO2/yr', 'Gt CO2/yr', inplace=True)"
   ]
  },
  {
   "cell_type": "markdown",
   "metadata": {},
   "source": [
    "As a first step, we extract the timeseries for the AFOLU emissions and rename the variable for brevity. This data will be used as is in this figure."
   ]
  },
  {
   "cell_type": "code",
   "execution_count": 10,
   "metadata": {},
   "outputs": [],
   "source": [
    "afolu = (\n",
    "    pw.filter(variable=afolu_var)\n",
    "    .rename(variable={afolu_var: 'AFOLU'})\n",
    ")"
   ]
  },
  {
   "cell_type": "markdown",
   "metadata": {},
   "source": [
    "The energy-and-industry and BECCS timeseries data needs some processing. It is first separated into two distinct dataframes, and the BECCS variable is renamed for brevity."
   ]
  },
  {
   "cell_type": "code",
   "execution_count": 11,
   "metadata": {},
   "outputs": [],
   "source": [
    "ene_ind = pw.filter(variable=ene_ind_var)"
   ]
  },
  {
   "cell_type": "code",
   "execution_count": 12,
   "metadata": {},
   "outputs": [],
   "source": [
    "beccs = (\n",
    "    pw.filter(variable=beccs_var)\n",
    "   .rename(variable={beccs_var: 'BECCS'})\n",
    ")"
   ]
  },
  {
   "cell_type": "markdown",
   "metadata": {},
   "source": [
    "The variable `Carbon Sequestration|CCS|Biomass` reports removed carbon dioxide as positive values. For use in this figure, the sign needs to be reversed."
   ]
  },
  {
   "cell_type": "code",
   "execution_count": 13,
   "metadata": {},
   "outputs": [],
   "source": [
    "beccs.data.value = - beccs.data.value"
   ]
  },
  {
   "cell_type": "markdown",
   "metadata": {},
   "source": [
    "The `LED` marker scenario does not use any BECCS by assumption of the scenario design. For this reason, the variable `Carbon Sequestration|CCS|Biomass` was not defined when the MESSAGE team submitted the scenario results to the IAMC 1.5°C Scenario Data ensemble.\n",
    "\n",
    "For easier computation, we add this data series manually here."
   ]
  },
  {
   "cell_type": "code",
   "execution_count": 14,
   "metadata": {},
   "outputs": [],
   "source": [
    "years = beccs.timeseries().columns"
   ]
  },
  {
   "cell_type": "code",
   "execution_count": 15,
   "metadata": {},
   "outputs": [],
   "source": [
    "beccs.append(\n",
    "    pyam.IamDataFrame(\n",
    "        pd.DataFrame([0] * len(years), index=years).T,\n",
    "        model='MESSAGEix-GLOBIOM 1.0', scenario='LowEnergyDemand',\n",
    "        region='World', variable='BECCS', unit='Gt CO2/yr'),\n",
    "    inplace=True\n",
    ")"
   ]
  },
  {
   "cell_type": "markdown",
   "metadata": {},
   "source": [
    "As a third step, we compute the difference between net CO2 emissions from the energy sector & industry and BECCS to obtain gross CO2 emissions in that sector."
   ]
  },
  {
   "cell_type": "code",
   "execution_count": 16,
   "metadata": {},
   "outputs": [],
   "source": [
    "def get_value(df):\n",
    "    cols = ['model', 'scenario', 'region', 'year', 'unit']\n",
    "    return df.data.set_index(cols)['value']"
   ]
  },
  {
   "cell_type": "code",
   "execution_count": 17,
   "metadata": {},
   "outputs": [],
   "source": [
    "diff = get_value(ene_ind) - get_value(beccs)"
   ]
  },
  {
   "cell_type": "code",
   "execution_count": 18,
   "metadata": {},
   "outputs": [],
   "source": [
    "ene_ind_gross = pyam.IamDataFrame(diff, variable='Fossil fuel and industry')"
   ]
  },
  {
   "cell_type": "markdown",
   "metadata": {},
   "source": [
    "We now combine the three contribution dataframes into one joint dataframe for plotting. Because the `beccs` IamDataFrame was partially altered, concatenating directly causes an issue, so we remove all `meta` columns from that dataframe beforehand."
   ]
  },
  {
   "cell_type": "code",
   "execution_count": 19,
   "metadata": {},
   "outputs": [],
   "source": [
    "beccs.meta = beccs.meta.drop(columns=beccs.meta.columns)"
   ]
  },
  {
   "cell_type": "code",
   "execution_count": 20,
   "metadata": {},
   "outputs": [],
   "source": [
    "co2 = pyam.concat([ene_ind_gross, afolu, beccs])"
   ]
  },
  {
   "cell_type": "markdown",
   "metadata": {},
   "source": [
    "We now proceed to plot the four illustrative pathways."
   ]
  },
  {
   "cell_type": "code",
   "execution_count": 21,
   "metadata": {},
   "outputs": [
    {
     "name": "stderr",
     "output_type": "stream",
     "text": [
      "/Users/aa/.pyenv_intel/versions/anaconda3-2018.12/envs/iam-original/lib/python3.7/site-packages/matplotlib/cbook/__init__.py:1377: FutureWarning: Support for multi-dimensional indexing (e.g. `obj[:, None]`) is deprecated and will be removed in a future version.  Convert to a numpy array before indexing instead.\n",
      "  x[:, None]\n",
      "/Users/aa/.pyenv_intel/versions/anaconda3-2018.12/envs/iam-original/lib/python3.7/site-packages/matplotlib/axes/_base.py:239: FutureWarning: Support for multi-dimensional indexing (e.g. `obj[:, None]`) is deprecated and will be removed in a future version.  Convert to a numpy array before indexing instead.\n",
      "  y = y[:, np.newaxis]\n"
     ]
    },
    {
     "data": {
      "text/plain": [
       "<matplotlib.legend.Legend at 0x7fc9510573d0>"
      ]
     },
     "execution_count": 21,
     "metadata": {},
     "output_type": "execute_result"
    },
    {
     "data": {
      "image/png": "[encoded data removed]",
      "text/plain": [
       "<Figure size 1400x400 with 4 Axes>"
      ]
     },
     "metadata": {},
     "output_type": "display_data"
    }
   ],
   "source": [
    "fig, ax = plt.subplots(1, 4, figsize=(14, 4), sharey=True)\n",
    "\n",
    "for i, m in enumerate(['LED', 'S1', 'S2', 'S5']):\n",
    "    co2.filter(marker=m).stack_plot(ax=ax[i], total=True, legend=False)\n",
    "    ax[i].title.set_text(m)\n",
    "\n",
    "ax[3].legend(loc=1)"
   ]
  },
  {
   "cell_type": "markdown",
   "metadata": {},
   "source": [
    "## Collecting indicators across illustrative pathways\n",
    "\n",
    "### Initialize a `pyam.Statistics` instance"
   ]
  },
  {
   "cell_type": "code",
   "execution_count": 22,
   "metadata": {},
   "outputs": [],
   "source": [
    "base_year = 2010\n",
    "compare_years = [2030, 2050]\n",
    "years = [base_year] + compare_years"
   ]
  },
  {
   "cell_type": "code",
   "execution_count": 23,
   "metadata": {},
   "outputs": [],
   "source": [
    "stats = pyam.Statistics(df=df, groupby={'marker': ['LED', 'S1', 'S2', 'S5']},\n",
    "                        filters=[(('pathways', 'no & lo os 1.5'), {'category': cats_15_no_lo})])"
   ]
  },
  {
   "cell_type": "markdown",
   "metadata": {},
   "source": [
    "### CO2 and Kyoto GHG emissions reductions"
   ]
  },
  {
   "cell_type": "code",
   "execution_count": 24,
   "metadata": {},
   "outputs": [],
   "source": [
    "co2 = (\n",
    "    df.filter(kyoto_ghg_2010='in range', variable='Emissions|CO2', year=years)\n",
    "    .convert_unit('Mt CO2/yr', 'Gt CO2/yr')\n",
    "    .timeseries()\n",
    ")"
   ]
  },
  {
   "cell_type": "code",
   "execution_count": 25,
   "metadata": {},
   "outputs": [],
   "source": [
    "for y in compare_years:\n",
    "    stats.add((co2[y] / co2[2010] - 1) * 100,\n",
    "        'CO2 emission reduction (% relative to 2010)',\n",
    "        subheader=y)"
   ]
  },
  {
   "cell_type": "code",
   "execution_count": 26,
   "metadata": {},
   "outputs": [],
   "source": [
    "kyoto_ghg = (\n",
    "    df.filter(kyoto_ghg_2010='in range', variable='Emissions|Kyoto Gases (SAR-GWP100)', year=years)\n",
    "    .rename(unit={'Mt CO2-equiv/yr': 'Mt CO2e/yr'})\n",
    "    .convert_unit('Mt CO2e/yr','Gt CO2e/yr')\n",
    "    .timeseries()\n",
    ")\n",
    "for y in compare_years:\n",
    "    stats.add((kyoto_ghg[y] / kyoto_ghg[base_year] - 1) * 100,\n",
    "        'Kyoto-GHG emission reduction (SAR-GWP100), % relative to {})'.format(base_year),\n",
    "        subheader=y)"
   ]
  },
  {
   "cell_type": "markdown",
   "metadata": {},
   "source": [
    "### Final energy demand reduction relative to 2010"
   ]
  },
  {
   "cell_type": "code",
   "execution_count": 27,
   "metadata": {},
   "outputs": [],
   "source": [
    "fe = df.filter(variable='Final Energy', year=years).timeseries()\n",
    "for y in compare_years:\n",
    "    stats.add((fe[y] / fe[base_year] - 1) * 100,\n",
    "              'Final energy demand reduction relative to {} (%)'.format(base_year),\n",
    "              subheader=y)"
   ]
  },
  {
   "cell_type": "markdown",
   "metadata": {},
   "source": [
    "### Share of renewables in electricity generation"
   ]
  },
  {
   "cell_type": "code",
   "execution_count": 28,
   "metadata": {},
   "outputs": [],
   "source": [
    "def add_stats_share(stats, var_list, name, total, total_name, years, df=df):\n",
    "\n",
    "    _df = df.filter(variable=var_list)\n",
    "    for v in var_list:\n",
    "        _df.require_variable(v, exclude_on_fail=True)\n",
    "    _df.filter(exclude=False, inplace=True)\n",
    "\n",
    "    component = (\n",
    "        _df.timeseries()\n",
    "        .groupby(['model', 'scenario']).sum()\n",
    "    )\n",
    "    share = component / total * 100\n",
    "    \n",
    "    for y in years:\n",
    "        stats.add(share[y], header='Share of {} in {} (%)'.format(name, total_name),\n",
    "                  subheader=y)"
   ]
  },
  {
   "cell_type": "code",
   "execution_count": 29,
   "metadata": {},
   "outputs": [],
   "source": [
    "ele = df.filter(variable='Secondary Energy|Electricity', year=compare_years).timeseries()\n",
    "ele.index = ele.index.droplevel([2, 3, 4])"
   ]
  },
  {
   "cell_type": "code",
   "execution_count": 30,
   "metadata": {},
   "outputs": [
    {
     "name": "stderr",
     "output_type": "stream",
     "text": [
      "pyam.core - INFO: All scenarios have the required variable `Secondary Energy|Electricity|Biomass`\n",
      "pyam.core - INFO: All scenarios have the required variable `Secondary Energy|Electricity|Non-Biomass Renewables`\n"
     ]
    }
   ],
   "source": [
    "ele_re_vars = [\n",
    "    'Secondary Energy|Electricity|Biomass',\n",
    "    'Secondary Energy|Electricity|Non-Biomass Renewables'\n",
    "]\n",
    "add_stats_share(stats, ele_re_vars, 'renewables', ele, 'electricity', compare_years)"
   ]
  },
  {
   "cell_type": "markdown",
   "metadata": {},
   "source": [
    "### Changes in primary energy mix"
   ]
  },
  {
   "cell_type": "code",
   "execution_count": 31,
   "metadata": {},
   "outputs": [],
   "source": [
    "mapping = [\n",
    "    ('coal', 'Coal'),\n",
    "    ('oil', 'Oil'),\n",
    "    ('gas', 'Gas'),\n",
    "    ('nuclear', 'Nuclear'),\n",
    "    ('bioenergy', 'Biomass'),\n",
    "    ('non-biomass renewables', 'Non-Biomass Renewables')\n",
    "]"
   ]
  },
  {
   "cell_type": "code",
   "execution_count": 32,
   "metadata": {},
   "outputs": [],
   "source": [
    "for (n, v) in mapping:\n",
    "    data = df.filter(variable='Primary Energy|{}'.format(v), year=years).timeseries()\n",
    "\n",
    "    for y in compare_years:\n",
    "        stats.add((data[y] / data[base_year] - 1) * 100,\n",
    "                  header='Primary energy from {} (% rel to {})'.format(n, base_year),\n",
    "                  subheader=y)"
   ]
  },
  {
   "cell_type": "markdown",
   "metadata": {},
   "source": [
    "###  Cumulative carbon capture and sequestration until the end of the century"
   ]
  },
  {
   "cell_type": "code",
   "execution_count": 33,
   "metadata": {},
   "outputs": [],
   "source": [
    "def cumulative_ccs(variable, name, first_year=2016, last_year=2100):\n",
    "\n",
    "    data = (\n",
    "        df.filter(variable=variable)\n",
    "        .convert_unit('Mt CO2/yr', 'Gt CO2/yr')\n",
    "        .timeseries()\n",
    "    )\n",
    "    \n",
    "    stats.add(\n",
    "        data.apply(pyam.cumulative, raw=False, axis=1,\n",
    "                   first_year=first_year, last_year=last_year),\n",
    "        header='Cumulative {} until {} (GtCO2)'.format(name, last_year), subheader='')"
   ]
  },
  {
   "cell_type": "code",
   "execution_count": 34,
   "metadata": {},
   "outputs": [],
   "source": [
    "cumulative_ccs('Carbon Sequestration|CCS', 'CCS')"
   ]
  },
  {
   "cell_type": "code",
   "execution_count": 35,
   "metadata": {},
   "outputs": [],
   "source": [
    "cumulative_ccs('Carbon Sequestration|CCS|Biomass', 'BECCS')"
   ]
  },
  {
   "cell_type": "markdown",
   "metadata": {},
   "source": [
    "### Land cover for energy crops\n",
    "\n",
    "Convert unit to SI unit (million square kilometers)."
   ]
  },
  {
   "cell_type": "code",
   "execution_count": 36,
   "metadata": {},
   "outputs": [],
   "source": [
    "energy_crops = (\n",
    "    df.filter(variable='Land Cover|Cropland|Energy Crops', year=2050)\n",
    "    .convert_unit('million ha', 'million km2', factor=0.01)\n",
    "    .timeseries()\n",
    ")"
   ]
  },
  {
   "cell_type": "code",
   "execution_count": 37,
   "metadata": {},
   "outputs": [],
   "source": [
    "stats.add(energy_crops[2050], header='Land are for energy crops (million km2)')"
   ]
  },
  {
   "cell_type": "markdown",
   "metadata": {},
   "source": [
    "### Emissions from land use"
   ]
  },
  {
   "cell_type": "code",
   "execution_count": 38,
   "metadata": {},
   "outputs": [],
   "source": [
    "species = ['CH4', 'N2O']"
   ]
  },
  {
   "cell_type": "code",
   "execution_count": 39,
   "metadata": {},
   "outputs": [],
   "source": [
    "for n in species:\n",
    "    data = df.filter(kyoto_ghg_2010='in range', variable='Emissions|{}|AFOLU'.format(n), year=years).timeseries()\n",
    "\n",
    "    for y in compare_years:\n",
    "        stats.add((data[y] / data[base_year] - 1) * 100,\n",
    "                  header='Agricultural {} emissions (% rel to {})'.format(n, base_year),\n",
    "                  subheader=y)"
   ]
  },
  {
   "cell_type": "markdown",
   "metadata": {},
   "source": [
    "## Display summary statistics and export to `xlsx`"
   ]
  },
  {
   "cell_type": "code",
   "execution_count": 40,
   "metadata": {},
   "outputs": [
    {
     "data": {
      "text/html": [
       "<div>\n",
       "<style scoped>\n",
       "    .dataframe tbody tr th:only-of-type {\n",
       "        vertical-align: middle;\n",
       "    }\n",
       "\n",
       "    .dataframe tbody tr th {\n",
       "        vertical-align: top;\n",
       "    }\n",
       "\n",
       "    .dataframe thead tr th {\n",
       "        text-align: left;\n",
       "    }\n",
       "\n",
       "    .dataframe thead tr:last-of-type th {\n",
       "        text-align: right;\n",
       "    }\n",
       "</style>\n",
       "<table border=\"1\" class=\"dataframe\">\n",
       "  <thead>\n",
       "    <tr>\n",
       "      <th></th>\n",
       "      <th></th>\n",
       "      <th colspan=\"4\" halign=\"left\">marker</th>\n",
       "      <th>pathways</th>\n",
       "    </tr>\n",
       "    <tr>\n",
       "      <th></th>\n",
       "      <th></th>\n",
       "      <th>LED</th>\n",
       "      <th>S1</th>\n",
       "      <th>S2</th>\n",
       "      <th>S5</th>\n",
       "      <th>no &amp; lo os 1.5</th>\n",
       "    </tr>\n",
       "    <tr>\n",
       "      <th></th>\n",
       "      <th>mean (interquartile range)</th>\n",
       "      <th></th>\n",
       "      <th></th>\n",
       "      <th></th>\n",
       "      <th></th>\n",
       "      <th></th>\n",
       "    </tr>\n",
       "  </thead>\n",
       "  <tbody>\n",
       "    <tr>\n",
       "      <th>count</th>\n",
       "      <th></th>\n",
       "      <td></td>\n",
       "      <td></td>\n",
       "      <td></td>\n",
       "      <td></td>\n",
       "      <td>52</td>\n",
       "    </tr>\n",
       "    <tr>\n",
       "      <th rowspan=\"2\" valign=\"top\">CO2 emission reduction (% relative to 2010)</th>\n",
       "      <th>2030</th>\n",
       "      <td>-58</td>\n",
       "      <td>-47</td>\n",
       "      <td>-41</td>\n",
       "      <td>4</td>\n",
       "      <td>-49 (-40, -58) [42]</td>\n",
       "    </tr>\n",
       "    <tr>\n",
       "      <th>2050</th>\n",
       "      <td>-93</td>\n",
       "      <td>-95</td>\n",
       "      <td>-91</td>\n",
       "      <td>-97</td>\n",
       "      <td>-101 (-94, -107) [42]</td>\n",
       "    </tr>\n",
       "    <tr>\n",
       "      <th rowspan=\"2\" valign=\"top\">Kyoto-GHG emission reduction (SAR-GWP100), % relative to 2010)</th>\n",
       "      <th>2030</th>\n",
       "      <td>-50</td>\n",
       "      <td>-49</td>\n",
       "      <td>-35</td>\n",
       "      <td>-2</td>\n",
       "      <td>-45 (-39, -51) [36]</td>\n",
       "    </tr>\n",
       "    <tr>\n",
       "      <th>2050</th>\n",
       "      <td>-82</td>\n",
       "      <td>-89</td>\n",
       "      <td>-78</td>\n",
       "      <td>-80</td>\n",
       "      <td>-87 (-81, -93) [36]</td>\n",
       "    </tr>\n",
       "    <tr>\n",
       "      <th rowspan=\"2\" valign=\"top\">Final energy demand reduction relative to 2010 (%)</th>\n",
       "      <th>2030</th>\n",
       "      <td>-15</td>\n",
       "      <td>-5</td>\n",
       "      <td>17</td>\n",
       "      <td>39</td>\n",
       "      <td>-2 (7, -12) [50]</td>\n",
       "    </tr>\n",
       "    <tr>\n",
       "      <th>2050</th>\n",
       "      <td>-32</td>\n",
       "      <td>2</td>\n",
       "      <td>21</td>\n",
       "      <td>44</td>\n",
       "      <td>8 (22, -11) [50]</td>\n",
       "    </tr>\n",
       "    <tr>\n",
       "      <th rowspan=\"2\" valign=\"top\">Share of renewables in electricity (%)</th>\n",
       "      <th>2030</th>\n",
       "      <td>60</td>\n",
       "      <td>58</td>\n",
       "      <td>48</td>\n",
       "      <td>25</td>\n",
       "      <td>56 (65, 47) [50]</td>\n",
       "    </tr>\n",
       "    <tr>\n",
       "      <th>2050</th>\n",
       "      <td>77</td>\n",
       "      <td>81</td>\n",
       "      <td>63</td>\n",
       "      <td>70</td>\n",
       "      <td>78 (86, 69) [50]</td>\n",
       "    </tr>\n",
       "    <tr>\n",
       "      <th rowspan=\"2\" valign=\"top\">Primary energy from coal (% rel to 2010)</th>\n",
       "      <th>2030</th>\n",
       "      <td>-78</td>\n",
       "      <td>-61</td>\n",
       "      <td>-75</td>\n",
       "      <td>-59</td>\n",
       "      <td>-67 (-59, -78) [50]</td>\n",
       "    </tr>\n",
       "    <tr>\n",
       "      <th>2050</th>\n",
       "      <td>-97</td>\n",
       "      <td>-77</td>\n",
       "      <td>-73</td>\n",
       "      <td>-97</td>\n",
       "      <td>-82 (-74, -95) [50]</td>\n",
       "    </tr>\n",
       "    <tr>\n",
       "      <th rowspan=\"2\" valign=\"top\">Primary energy from oil (% rel to 2010)</th>\n",
       "      <th>2030</th>\n",
       "      <td>-37</td>\n",
       "      <td>-13</td>\n",
       "      <td>-3</td>\n",
       "      <td>86</td>\n",
       "      <td>-15 (3, -34) [50]</td>\n",
       "    </tr>\n",
       "    <tr>\n",
       "      <th>2050</th>\n",
       "      <td>-87</td>\n",
       "      <td>-50</td>\n",
       "      <td>-81</td>\n",
       "      <td>-32</td>\n",
       "      <td>-55 (-31, -78) [50]</td>\n",
       "    </tr>\n",
       "    <tr>\n",
       "      <th rowspan=\"2\" valign=\"top\">Primary energy from gas (% rel to 2010)</th>\n",
       "      <th>2030</th>\n",
       "      <td>-25</td>\n",
       "      <td>-20</td>\n",
       "      <td>33</td>\n",
       "      <td>37</td>\n",
       "      <td>-5 (21, -26) [50]</td>\n",
       "    </tr>\n",
       "    <tr>\n",
       "      <th>2050</th>\n",
       "      <td>-74</td>\n",
       "      <td>-53</td>\n",
       "      <td>21</td>\n",
       "      <td>-48</td>\n",
       "      <td>-25 (6, -56) [50]</td>\n",
       "    </tr>\n",
       "    <tr>\n",
       "      <th rowspan=\"2\" valign=\"top\">Primary energy from nuclear (% rel to 2010)</th>\n",
       "      <th>2030</th>\n",
       "      <td>59</td>\n",
       "      <td>83</td>\n",
       "      <td>98</td>\n",
       "      <td>106</td>\n",
       "      <td>75 (102, 44) [50]</td>\n",
       "    </tr>\n",
       "    <tr>\n",
       "      <th>2050</th>\n",
       "      <td>150</td>\n",
       "      <td>98</td>\n",
       "      <td>501</td>\n",
       "      <td>468</td>\n",
       "      <td>163 (190, 91) [50]</td>\n",
       "    </tr>\n",
       "    <tr>\n",
       "      <th rowspan=\"2\" valign=\"top\">Primary energy from bioenergy (% rel to 2010)</th>\n",
       "      <th>2030</th>\n",
       "      <td>-11</td>\n",
       "      <td>-0</td>\n",
       "      <td>36</td>\n",
       "      <td>-1</td>\n",
       "      <td>55 (80, 29) [50]</td>\n",
       "    </tr>\n",
       "    <tr>\n",
       "      <th>2050</th>\n",
       "      <td>-16</td>\n",
       "      <td>49</td>\n",
       "      <td>121</td>\n",
       "      <td>418</td>\n",
       "      <td>203 (261, 123) [50]</td>\n",
       "    </tr>\n",
       "    <tr>\n",
       "      <th rowspan=\"2\" valign=\"top\">Primary energy from non-biomass renewables (% rel to 2010)</th>\n",
       "      <th>2030</th>\n",
       "      <td>430</td>\n",
       "      <td>470</td>\n",
       "      <td>315</td>\n",
       "      <td>110</td>\n",
       "      <td>343 (436, 245) [50]</td>\n",
       "    </tr>\n",
       "    <tr>\n",
       "      <th>2050</th>\n",
       "      <td>833</td>\n",
       "      <td>1327</td>\n",
       "      <td>878</td>\n",
       "      <td>1137</td>\n",
       "      <td>1060 (1299, 576) [50]</td>\n",
       "    </tr>\n",
       "    <tr>\n",
       "      <th>Cumulative CCS until 2100 (GtCO2)</th>\n",
       "      <th></th>\n",
       "      <td>0</td>\n",
       "      <td>348</td>\n",
       "      <td>687</td>\n",
       "      <td>1218</td>\n",
       "      <td>798 (1017, 550) [50]</td>\n",
       "    </tr>\n",
       "    <tr>\n",
       "      <th>Cumulative BECCS until 2100 (GtCO2)</th>\n",
       "      <th></th>\n",
       "      <td></td>\n",
       "      <td>151</td>\n",
       "      <td>414</td>\n",
       "      <td>1191</td>\n",
       "      <td>496 (662, 364)</td>\n",
       "    </tr>\n",
       "    <tr>\n",
       "      <th>Land are for energy crops (million km2)</th>\n",
       "      <th>2050</th>\n",
       "      <td>0</td>\n",
       "      <td>1</td>\n",
       "      <td>3</td>\n",
       "      <td>7</td>\n",
       "      <td>3 (3, 2) [26]</td>\n",
       "    </tr>\n",
       "    <tr>\n",
       "      <th rowspan=\"2\" valign=\"top\">Agricultural CH4 emissions (% rel to 2010)</th>\n",
       "      <th>2030</th>\n",
       "      <td>-24</td>\n",
       "      <td>-48</td>\n",
       "      <td>1</td>\n",
       "      <td>14</td>\n",
       "      <td>-20 (-11, -31) [33]</td>\n",
       "    </tr>\n",
       "    <tr>\n",
       "      <th>2050</th>\n",
       "      <td>-33</td>\n",
       "      <td>-69</td>\n",
       "      <td>-23</td>\n",
       "      <td>2</td>\n",
       "      <td>-35 (-24, -47) [33]</td>\n",
       "    </tr>\n",
       "    <tr>\n",
       "      <th rowspan=\"2\" valign=\"top\">Agricultural N2O emissions (% rel to 2010)</th>\n",
       "      <th>2030</th>\n",
       "      <td>5</td>\n",
       "      <td>-26</td>\n",
       "      <td>15</td>\n",
       "      <td>3</td>\n",
       "      <td>-10 (3, -21) [33]</td>\n",
       "    </tr>\n",
       "    <tr>\n",
       "      <th>2050</th>\n",
       "      <td>6</td>\n",
       "      <td>-26</td>\n",
       "      <td>0</td>\n",
       "      <td>39</td>\n",
       "      <td>-12 (1, -26) [33]</td>\n",
       "    </tr>\n",
       "  </tbody>\n",
       "</table>\n",
       "</div>"
      ],
      "text/plain": [
       "                                                                              marker  \\\n",
       "                                                                                 LED   \n",
       "                                                   mean (interquartile range)          \n",
       "count                                                                                  \n",
       "CO2 emission reduction (% relative to 2010)        2030                          -58   \n",
       "                                                   2050                          -93   \n",
       "Kyoto-GHG emission reduction (SAR-GWP100), % re... 2030                          -50   \n",
       "                                                   2050                          -82   \n",
       "Final energy demand reduction relative to 2010 (%) 2030                          -15   \n",
       "                                                   2050                          -32   \n",
       "Share of renewables in electricity (%)             2030                           60   \n",
       "                                                   2050                           77   \n",
       "Primary energy from coal (% rel to 2010)           2030                          -78   \n",
       "                                                   2050                          -97   \n",
       "Primary energy from oil (% rel to 2010)            2030                          -37   \n",
       "                                                   2050                          -87   \n",
       "Primary energy from gas (% rel to 2010)            2030                          -25   \n",
       "                                                   2050                          -74   \n",
       "Primary energy from nuclear (% rel to 2010)        2030                           59   \n",
       "                                                   2050                          150   \n",
       "Primary energy from bioenergy (% rel to 2010)      2030                          -11   \n",
       "                                                   2050                          -16   \n",
       "Primary energy from non-biomass renewables (% r... 2030                          430   \n",
       "                                                   2050                          833   \n",
       "Cumulative CCS until 2100 (GtCO2)                                                  0   \n",
       "Cumulative BECCS until 2100 (GtCO2)                                                    \n",
       "Land are for energy crops (million km2)            2050                            0   \n",
       "Agricultural CH4 emissions (% rel to 2010)         2030                          -24   \n",
       "                                                   2050                          -33   \n",
       "Agricultural N2O emissions (% rel to 2010)         2030                            5   \n",
       "                                                   2050                            6   \n",
       "\n",
       "                                                                                     \\\n",
       "                                                                                 S1   \n",
       "                                                   mean (interquartile range)         \n",
       "count                                                                                 \n",
       "CO2 emission reduction (% relative to 2010)        2030                         -47   \n",
       "                                                   2050                         -95   \n",
       "Kyoto-GHG emission reduction (SAR-GWP100), % re... 2030                         -49   \n",
       "                                                   2050                         -89   \n",
       "Final energy demand reduction relative to 2010 (%) 2030                          -5   \n",
       "                                                   2050                           2   \n",
       "Share of renewables in electricity (%)             2030                          58   \n",
       "                                                   2050                          81   \n",
       "Primary energy from coal (% rel to 2010)           2030                         -61   \n",
       "                                                   2050                         -77   \n",
       "Primary energy from oil (% rel to 2010)            2030                         -13   \n",
       "                                                   2050                         -50   \n",
       "Primary energy from gas (% rel to 2010)            2030                         -20   \n",
       "                                                   2050                         -53   \n",
       "Primary energy from nuclear (% rel to 2010)        2030                          83   \n",
       "                                                   2050                          98   \n",
       "Primary energy from bioenergy (% rel to 2010)      2030                          -0   \n",
       "                                                   2050                          49   \n",
       "Primary energy from non-biomass renewables (% r... 2030                         470   \n",
       "                                                   2050                        1327   \n",
       "Cumulative CCS until 2100 (GtCO2)                                               348   \n",
       "Cumulative BECCS until 2100 (GtCO2)                                             151   \n",
       "Land are for energy crops (million km2)            2050                           1   \n",
       "Agricultural CH4 emissions (% rel to 2010)         2030                         -48   \n",
       "                                                   2050                         -69   \n",
       "Agricultural N2O emissions (% rel to 2010)         2030                         -26   \n",
       "                                                   2050                         -26   \n",
       "\n",
       "                                                                                    \\\n",
       "                                                                                S2   \n",
       "                                                   mean (interquartile range)        \n",
       "count                                                                                \n",
       "CO2 emission reduction (% relative to 2010)        2030                        -41   \n",
       "                                                   2050                        -91   \n",
       "Kyoto-GHG emission reduction (SAR-GWP100), % re... 2030                        -35   \n",
       "                                                   2050                        -78   \n",
       "Final energy demand reduction relative to 2010 (%) 2030                         17   \n",
       "                                                   2050                         21   \n",
       "Share of renewables in electricity (%)             2030                         48   \n",
       "                                                   2050                         63   \n",
       "Primary energy from coal (% rel to 2010)           2030                        -75   \n",
       "                                                   2050                        -73   \n",
       "Primary energy from oil (% rel to 2010)            2030                         -3   \n",
       "                                                   2050                        -81   \n",
       "Primary energy from gas (% rel to 2010)            2030                         33   \n",
       "                                                   2050                         21   \n",
       "Primary energy from nuclear (% rel to 2010)        2030                         98   \n",
       "                                                   2050                        501   \n",
       "Primary energy from bioenergy (% rel to 2010)      2030                         36   \n",
       "                                                   2050                        121   \n",
       "Primary energy from non-biomass renewables (% r... 2030                        315   \n",
       "                                                   2050                        878   \n",
       "Cumulative CCS until 2100 (GtCO2)                                              687   \n",
       "Cumulative BECCS until 2100 (GtCO2)                                            414   \n",
       "Land are for energy crops (million km2)            2050                          3   \n",
       "Agricultural CH4 emissions (% rel to 2010)         2030                          1   \n",
       "                                                   2050                        -23   \n",
       "Agricultural N2O emissions (% rel to 2010)         2030                         15   \n",
       "                                                   2050                          0   \n",
       "\n",
       "                                                                                     \\\n",
       "                                                                                 S5   \n",
       "                                                   mean (interquartile range)         \n",
       "count                                                                                 \n",
       "CO2 emission reduction (% relative to 2010)        2030                           4   \n",
       "                                                   2050                         -97   \n",
       "Kyoto-GHG emission reduction (SAR-GWP100), % re... 2030                          -2   \n",
       "                                                   2050                         -80   \n",
       "Final energy demand reduction relative to 2010 (%) 2030                          39   \n",
       "                                                   2050                          44   \n",
       "Share of renewables in electricity (%)             2030                          25   \n",
       "                                                   2050                          70   \n",
       "Primary energy from coal (% rel to 2010)           2030                         -59   \n",
       "                                                   2050                         -97   \n",
       "Primary energy from oil (% rel to 2010)            2030                          86   \n",
       "                                                   2050                         -32   \n",
       "Primary energy from gas (% rel to 2010)            2030                          37   \n",
       "                                                   2050                         -48   \n",
       "Primary energy from nuclear (% rel to 2010)        2030                         106   \n",
       "                                                   2050                         468   \n",
       "Primary energy from bioenergy (% rel to 2010)      2030                          -1   \n",
       "                                                   2050                         418   \n",
       "Primary energy from non-biomass renewables (% r... 2030                         110   \n",
       "                                                   2050                        1137   \n",
       "Cumulative CCS until 2100 (GtCO2)                                              1218   \n",
       "Cumulative BECCS until 2100 (GtCO2)                                            1191   \n",
       "Land are for energy crops (million km2)            2050                           7   \n",
       "Agricultural CH4 emissions (% rel to 2010)         2030                          14   \n",
       "                                                   2050                           2   \n",
       "Agricultural N2O emissions (% rel to 2010)         2030                           3   \n",
       "                                                   2050                          39   \n",
       "\n",
       "                                                                                            pathways  \n",
       "                                                                                      no & lo os 1.5  \n",
       "                                                   mean (interquartile range)                         \n",
       "count                                                                                             52  \n",
       "CO2 emission reduction (% relative to 2010)        2030                          -49 (-40, -58) [42]  \n",
       "                                                   2050                        -101 (-94, -107) [42]  \n",
       "Kyoto-GHG emission reduction (SAR-GWP100), % re... 2030                          -45 (-39, -51) [36]  \n",
       "                                                   2050                          -87 (-81, -93) [36]  \n",
       "Final energy demand reduction relative to 2010 (%) 2030                             -2 (7, -12) [50]  \n",
       "                                                   2050                             8 (22, -11) [50]  \n",
       "Share of renewables in electricity (%)             2030                             56 (65, 47) [50]  \n",
       "                                                   2050                             78 (86, 69) [50]  \n",
       "Primary energy from coal (% rel to 2010)           2030                          -67 (-59, -78) [50]  \n",
       "                                                   2050                          -82 (-74, -95) [50]  \n",
       "Primary energy from oil (% rel to 2010)            2030                            -15 (3, -34) [50]  \n",
       "                                                   2050                          -55 (-31, -78) [50]  \n",
       "Primary energy from gas (% rel to 2010)            2030                            -5 (21, -26) [50]  \n",
       "                                                   2050                            -25 (6, -56) [50]  \n",
       "Primary energy from nuclear (% rel to 2010)        2030                            75 (102, 44) [50]  \n",
       "                                                   2050                           163 (190, 91) [50]  \n",
       "Primary energy from bioenergy (% rel to 2010)      2030                             55 (80, 29) [50]  \n",
       "                                                   2050                          203 (261, 123) [50]  \n",
       "Primary energy from non-biomass renewables (% r... 2030                          343 (436, 245) [50]  \n",
       "                                                   2050                        1060 (1299, 576) [50]  \n",
       "Cumulative CCS until 2100 (GtCO2)                                               798 (1017, 550) [50]  \n",
       "Cumulative BECCS until 2100 (GtCO2)                                                   496 (662, 364)  \n",
       "Land are for energy crops (million km2)            2050                                3 (3, 2) [26]  \n",
       "Agricultural CH4 emissions (% rel to 2010)         2030                          -20 (-11, -31) [33]  \n",
       "                                                   2050                          -35 (-24, -47) [33]  \n",
       "Agricultural N2O emissions (% rel to 2010)         2030                            -10 (3, -21) [33]  \n",
       "                                                   2050                            -12 (1, -26) [33]  "
      ]
     },
     "execution_count": 40,
     "metadata": {},
     "output_type": "execute_result"
    }
   ],
   "source": [
    "summary = stats.summarize(interquartile=True, custom_format='{:.0f}').T\n",
    "summary"
   ]
  },
  {
   "cell_type": "code",
   "execution_count": 41,
   "metadata": {},
   "outputs": [],
   "source": [
    "summary.to_excel('output/spm_sr15_figure3b_indicators_table.xlsx')"
   ]
  },
  {
   "cell_type": "code",
   "execution_count": null,
   "metadata": {},
   "outputs": [],
   "source": []
  }
 ],
 "metadata": {
  "kernelspec": {
   "display_name": "Python 3 (ipykernel)",
   "language": "python",
   "name": "python3"
  },
  "language_info": {
   "codemirror_mode": {
    "name": "ipython",
    "version": 3
   },
   "file_extension": ".py",
   "mimetype": "text/x-python",
   "name": "python",
   "nbconvert_exporter": "python",
   "pygments_lexer": "ipython3",
   "version": "3.7.16"
  }
 },
 "nbformat": 4,
 "nbformat_minor": 2
}
