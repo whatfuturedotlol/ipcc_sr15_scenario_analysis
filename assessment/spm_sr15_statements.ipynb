{
 "cells": [
  {
   "cell_type": "markdown",
   "metadata": {},
   "source": [
    "### *IPCC SR15 scenario assessment*\n",
    "\n",
    "<img style=\"float: right; height: 80px; padding-left: 20px;\" src=\"../_static/IIASA_logo.png\">\n",
    "<img style=\"float: right; height: 80px;\" src=\"../_static/IAMC_logo.jpg\">\n",
    "\n",
    "# Statements of the *Summary for Policymakers* <br /> derived from the scenario assessment\n",
    "\n",
    "This notebook computes the summary statistics highlighted in the Summary for Policymakers\n",
    "of the IPCC's _\"Special Report on Global Warming of 1.5°C\"_.\n",
    "\n",
    "The scenario data used in this analysis can be accessed and downloaded at [https://data.ene.iiasa.ac.at/iamc-1.5c-explorer](https://data.ene.iiasa.ac.at/iamc-1.5c-explorer)."
   ]
  },
  {
   "cell_type": "markdown",
   "metadata": {},
   "source": [
    "## Load `pyam` package and other dependencies"
   ]
  },
  {
   "cell_type": "code",
   "execution_count": 1,
   "metadata": {},
   "outputs": [
    {
     "data": {
      "application/javascript": [
       "IPython.OutputArea.prototype._should_scroll = function(lines) { return false; }"
      ],
      "text/plain": [
       "<IPython.core.display.Javascript object>"
      ]
     },
     "metadata": {},
     "output_type": "display_data"
    },
    {
     "name": "stderr",
     "output_type": "stream",
     "text": [
      "pyam - INFO: Running in a notebook, setting `pyam` logging level to `logging.INFO` and adding stderr handler\n"
     ]
    }
   ],
   "source": [
    "import pandas as pd\n",
    "import numpy as np\n",
    "import io\n",
    "import itertools\n",
    "import yaml\n",
    "import math\n",
    "import matplotlib.pyplot as plt\n",
    "plt.style.use('style_sr15.mplstyle')\n",
    "%matplotlib inline\n",
    "import pyam"
   ]
  },
  {
   "cell_type": "markdown",
   "metadata": {},
   "source": [
    "## Import scenario data, categorization and specifications files\n",
    "\n",
    "The metadata file with scenario categorisation and quantitative indicators can be downloaded at [https://data.ene.iiasa.ac.at/iamc-1.5c-explorer](https://data.ene.iiasa.ac.at/iamc-1.5c-explorer).  \n",
    "Alternatively, it can be re-created using the notebook `sr15_2.0_categories_indicators`.\n",
    "\n",
    "The last cell of this section loads and assigns a number of auxiliary lists as defined in the categorization notebook."
   ]
  },
  {
   "cell_type": "code",
   "execution_count": 2,
   "metadata": {},
   "outputs": [
    {
     "name": "stderr",
     "output_type": "stream",
     "text": [
      "pyam.utils - INFO: Reading `../data/iamc15_scenario_data_world_r2.0.xlsx`\n"
     ]
    }
   ],
   "source": [
    "sr1p5 = pyam.IamDataFrame(data='../data/iamc15_scenario_data_world_r2.0.xlsx')"
   ]
  },
  {
   "cell_type": "code",
   "execution_count": 3,
   "metadata": {},
   "outputs": [
    {
     "name": "stderr",
     "output_type": "stream",
     "text": [
      "pyam.core - INFO: Importing metadata for 416 scenarios (for total of 416)\n"
     ]
    }
   ],
   "source": [
    "sr1p5.load_meta('sr15_metadata_indicators.xlsx')"
   ]
  },
  {
   "cell_type": "code",
   "execution_count": 4,
   "metadata": {},
   "outputs": [],
   "source": [
    "with open(\"sr15_specs.yaml\", 'r') as stream:\n",
    "    specs = yaml.load(stream, Loader=yaml.FullLoader)\n",
    "\n",
    "cats = specs.pop('cats')\n",
    "cats_15 = specs.pop('cats_15')\n",
    "cats_15_no_lo = specs.pop('cats_15_no_lo')\n",
    "cats_2 = specs.pop('cats_2')"
   ]
  },
  {
   "cell_type": "markdown",
   "metadata": {},
   "source": [
    "## Downselect scenario ensemble to categories of interest for this assessment"
   ]
  },
  {
   "cell_type": "code",
   "execution_count": 5,
   "metadata": {},
   "outputs": [],
   "source": [
    "cats.remove('Above 2C')"
   ]
  },
  {
   "cell_type": "code",
   "execution_count": 6,
   "metadata": {},
   "outputs": [],
   "source": [
    "compare_year = 2010"
   ]
  },
  {
   "cell_type": "code",
   "execution_count": 7,
   "metadata": {},
   "outputs": [],
   "source": [
    "sr1p5.meta.rename(columns={'Kyoto-GHG|2010 (SAR)': 'kyoto_ghg_2010'}, inplace=True)"
   ]
  },
  {
   "cell_type": "code",
   "execution_count": 8,
   "metadata": {},
   "outputs": [],
   "source": [
    "df = sr1p5.filter(category=cats)"
   ]
  },
  {
   "cell_type": "markdown",
   "metadata": {},
   "source": [
    "## Define filters for `pyam.Statistics` instance"
   ]
  },
  {
   "cell_type": "code",
   "execution_count": 9,
   "metadata": {},
   "outputs": [],
   "source": [
    "filters_15_no_lo = [('no & lo os 1.5', {'category': cats_15_no_lo})]\n",
    "filters_compare = filters_15_no_lo + [('2.0 lo', {'category': 'Lower 2C'})]"
   ]
  },
  {
   "cell_type": "markdown",
   "metadata": {},
   "source": [
    "## Statement C1: Net CO2 emissions by warming categories and year of crossing the net-zero threshold\n",
    "\n",
    "To reduce potential bias by many scenarios from the same modelling framework, 13 scenarios submitted by the 'AIM' model are excluded from the assessment underpinning this statement (cf. Table 2.4)."
   ]
  },
  {
   "cell_type": "code",
   "execution_count": 10,
   "metadata": {},
   "outputs": [],
   "source": [
    "filter_args_aim = dict(model='AIM*',\n",
    "                       scenario=['SFCM*_1p5Degree', 'EMF33_Med2C_nofuel', 'EMF33_Med2C_none'],\n",
    "                       keep=False)"
   ]
  },
  {
   "cell_type": "code",
   "execution_count": 11,
   "metadata": {},
   "outputs": [],
   "source": [
    "stats_c1 = pyam.Statistics(df=df, filters=filters_compare, rows=True)"
   ]
  },
  {
   "cell_type": "code",
   "execution_count": 12,
   "metadata": {},
   "outputs": [],
   "source": [
    "co2 = (\n",
    "    df.filter(kyoto_ghg_2010='in range', variable='Emissions|CO2')\n",
    "    .filter(**filter_args_aim)\n",
    "    .convert_unit('Mt CO2/yr', 'Gt CO2/yr')\n",
    "    .timeseries()\n",
    ")"
   ]
  },
  {
   "cell_type": "code",
   "execution_count": 13,
   "metadata": {},
   "outputs": [],
   "source": [
    "for y in [2030]:\n",
    "    stats_c1.add((1 - co2[y] / co2[compare_year]) * 100,\n",
    "                 header='Reduction in emissions by {}'.format(y),\n",
    "                 subheader='relative to {} (%)'.format(compare_year),\n",
    "                 row='Net CO2 emissions')"
   ]
  },
  {
   "cell_type": "markdown",
   "metadata": {},
   "source": [
    "Only include scenarios in this statistic that reach net-zero CO2 emissions before the end of the century"
   ]
  },
  {
   "cell_type": "code",
   "execution_count": 14,
   "metadata": {},
   "outputs": [],
   "source": [
    "net_zero = (\n",
    "    df.filter(kyoto_ghg_2010='in range')\n",
    "    .filter(**filter_args_aim)\n",
    ").meta['year of netzero CO2 emissions']\n",
    "netzero = net_zero[net_zero < 2100]"
   ]
  },
  {
   "cell_type": "code",
   "execution_count": 15,
   "metadata": {},
   "outputs": [],
   "source": [
    "stats_c1.add(net_zero,\n",
    "             header='Year of net-zero'.format(y),\n",
    "             subheader=''.format(compare_year),\n",
    "             row='Net CO2 emissions')"
   ]
  },
  {
   "cell_type": "code",
   "execution_count": 16,
   "metadata": {},
   "outputs": [
    {
     "data": {
      "text/html": [
       "<div>\n",
       "<style scoped>\n",
       "    .dataframe tbody tr th:only-of-type {\n",
       "        vertical-align: middle;\n",
       "    }\n",
       "\n",
       "    .dataframe tbody tr th {\n",
       "        vertical-align: top;\n",
       "    }\n",
       "\n",
       "    .dataframe thead tr th {\n",
       "        text-align: left;\n",
       "    }\n",
       "</style>\n",
       "<table border=\"1\" class=\"dataframe\">\n",
       "  <thead>\n",
       "    <tr>\n",
       "      <th></th>\n",
       "      <th></th>\n",
       "      <th>count</th>\n",
       "      <th>Reduction in emissions by 2030</th>\n",
       "      <th>Year of net-zero</th>\n",
       "    </tr>\n",
       "    <tr>\n",
       "      <th></th>\n",
       "      <th>median (interquartile range)</th>\n",
       "      <th></th>\n",
       "      <th>relative to 2010 (%)</th>\n",
       "      <th></th>\n",
       "    </tr>\n",
       "  </thead>\n",
       "  <tbody>\n",
       "    <tr>\n",
       "      <th>no &amp; lo os 1.5</th>\n",
       "      <th>Net CO2 emissions</th>\n",
       "      <td>42</td>\n",
       "      <td>46 (58, 40)</td>\n",
       "      <td>2050 (2055, 2046)</td>\n",
       "    </tr>\n",
       "    <tr>\n",
       "      <th>2.0 lo</th>\n",
       "      <th>Net CO2 emissions</th>\n",
       "      <td>54</td>\n",
       "      <td>24 (32, 9)</td>\n",
       "      <td>2070 (2079, 2063)</td>\n",
       "    </tr>\n",
       "  </tbody>\n",
       "</table>\n",
       "</div>"
      ],
      "text/plain": [
       "                                 count Reduction in emissions by 2030  \\\n",
       "median (interquartile range)                     relative to 2010 (%)   \n",
       "no & lo os 1.5 Net CO2 emissions    42                    46 (58, 40)   \n",
       "2.0 lo         Net CO2 emissions    54                     24 (32, 9)   \n",
       "\n",
       "                                   Year of net-zero  \n",
       "median (interquartile range)                         \n",
       "no & lo os 1.5 Net CO2 emissions  2050 (2055, 2046)  \n",
       "2.0 lo         Net CO2 emissions  2070 (2079, 2063)  "
      ]
     },
     "execution_count": 16,
     "metadata": {},
     "output_type": "execute_result"
    }
   ],
   "source": [
    "stats_c1.summarize(center='median', interquartile=True, custom_format='{:.0f}')"
   ]
  },
  {
   "cell_type": "markdown",
   "metadata": {},
   "source": [
    "## Statement C1.2: Reductions of methane and black carbon"
   ]
  },
  {
   "cell_type": "code",
   "execution_count": 17,
   "metadata": {},
   "outputs": [],
   "source": [
    "stats_c12 = pyam.Statistics(df=df, filters=filters_15_no_lo, rows=True)"
   ]
  },
  {
   "cell_type": "code",
   "execution_count": 18,
   "metadata": {},
   "outputs": [],
   "source": [
    "ch4 = df.filter(kyoto_ghg_2010='in range', variable='Emissions|CH4').timeseries()"
   ]
  },
  {
   "cell_type": "code",
   "execution_count": 19,
   "metadata": {},
   "outputs": [],
   "source": [
    "for y in [2050]:\n",
    "    stats_c12.add((1 - ch4[y] / ch4[compare_year]) * 100,\n",
    "                  header='Reduction in emissions by {}'.format(y),\n",
    "                  subheader='relative to {} (%)'.format(compare_year),\n",
    "                  row='Methane (CH4)')"
   ]
  },
  {
   "cell_type": "code",
   "execution_count": 20,
   "metadata": {},
   "outputs": [],
   "source": [
    "bc = df.filter(variable='Emissions|BC').timeseries()"
   ]
  },
  {
   "cell_type": "code",
   "execution_count": 21,
   "metadata": {},
   "outputs": [],
   "source": [
    "for y in [2050]:\n",
    "    stats_c12.add((1 - bc[y] / bc[compare_year]) * 100,\n",
    "                  header='Reduction in emissions by {}'.format(y),\n",
    "                  subheader='relative to {} (%)'.format(compare_year),\n",
    "                  row='Black carbon')"
   ]
  },
  {
   "cell_type": "code",
   "execution_count": 22,
   "metadata": {},
   "outputs": [
    {
     "data": {
      "text/html": [
       "<div>\n",
       "<style scoped>\n",
       "    .dataframe tbody tr th:only-of-type {\n",
       "        vertical-align: middle;\n",
       "    }\n",
       "\n",
       "    .dataframe tbody tr th {\n",
       "        vertical-align: top;\n",
       "    }\n",
       "\n",
       "    .dataframe thead tr th {\n",
       "        text-align: left;\n",
       "    }\n",
       "</style>\n",
       "<table border=\"1\" class=\"dataframe\">\n",
       "  <thead>\n",
       "    <tr>\n",
       "      <th></th>\n",
       "      <th></th>\n",
       "      <th>count</th>\n",
       "      <th>Reduction in emissions by 2050</th>\n",
       "    </tr>\n",
       "    <tr>\n",
       "      <th></th>\n",
       "      <th>mean (max, min)</th>\n",
       "      <th></th>\n",
       "      <th>relative to 2010 (%)</th>\n",
       "    </tr>\n",
       "  </thead>\n",
       "  <tbody>\n",
       "    <tr>\n",
       "      <th rowspan=\"2\" valign=\"top\">no &amp; lo os 1.5</th>\n",
       "      <th>Methane (CH4)</th>\n",
       "      <td>42</td>\n",
       "      <td>53 (80, 37)</td>\n",
       "    </tr>\n",
       "    <tr>\n",
       "      <th>Black carbon</th>\n",
       "      <td>51</td>\n",
       "      <td>59 (87, 42)</td>\n",
       "    </tr>\n",
       "  </tbody>\n",
       "</table>\n",
       "</div>"
      ],
      "text/plain": [
       "                             count Reduction in emissions by 2050\n",
       "mean (max, min)                              relative to 2010 (%)\n",
       "no & lo os 1.5 Methane (CH4)    42                    53 (80, 37)\n",
       "               Black carbon     51                    59 (87, 42)"
      ]
     },
     "execution_count": 22,
     "metadata": {},
     "output_type": "execute_result"
    }
   ],
   "source": [
    "stats_c12.summarize(center='mean', fullrange=True, custom_format='{:.0f}')"
   ]
  },
  {
   "cell_type": "markdown",
   "metadata": {},
   "source": [
    "## Statement C2.2: Energy system transformation"
   ]
  },
  {
   "cell_type": "code",
   "execution_count": 23,
   "metadata": {},
   "outputs": [],
   "source": [
    "def add_stats_share(stats, var_list, name, total, total_name, years, df=df):\n",
    "\n",
    "    _df = df.filter(variable=var_list)\n",
    "    for v in var_list:\n",
    "        _df.require_variable(v, exclude_on_fail=True)\n",
    "    _df.filter(exclude=False, inplace=True)\n",
    "\n",
    "    component = (\n",
    "        _df.timeseries()\n",
    "        .groupby(['model', 'scenario']).sum()\n",
    "    )\n",
    "    share = component / total * 100\n",
    "    \n",
    "    for y in years:\n",
    "        stats.add(share[y], header='Share of {} in {}'.format(total_name, y),\n",
    "                  subheader='(%)', row=name)"
   ]
  },
  {
   "cell_type": "code",
   "execution_count": 24,
   "metadata": {},
   "outputs": [],
   "source": [
    "stats_c22 = pyam.Statistics(df=df, filters=filters_15_no_lo, rows=True)"
   ]
  },
  {
   "cell_type": "code",
   "execution_count": 25,
   "metadata": {},
   "outputs": [],
   "source": [
    "ele = df.filter(variable='Secondary Energy|Electricity').timeseries()\n",
    "ele.index = ele.index.droplevel([2, 3, 4])"
   ]
  },
  {
   "cell_type": "code",
   "execution_count": 26,
   "metadata": {},
   "outputs": [
    {
     "name": "stderr",
     "output_type": "stream",
     "text": [
      "pyam.core - INFO: All scenarios have the required variable `Secondary Energy|Electricity|Biomass`\n",
      "pyam.core - INFO: All scenarios have the required variable `Secondary Energy|Electricity|Non-Biomass Renewables`\n"
     ]
    }
   ],
   "source": [
    "ele_re_vars = [\n",
    "   'Secondary Energy|Electricity|Biomass',\n",
    "   'Secondary Energy|Electricity|Non-Biomass Renewables'\n",
    "]\n",
    "\n",
    "add_stats_share(stats_c22, ele_re_vars, 'renewables', ele, 'electricity generation', [2050])"
   ]
  },
  {
   "cell_type": "code",
   "execution_count": 27,
   "metadata": {},
   "outputs": [
    {
     "name": "stderr",
     "output_type": "stream",
     "text": [
      "pyam.core - INFO: All scenarios have the required variable `Secondary Energy|Electricity|Gas`\n"
     ]
    }
   ],
   "source": [
    "ele_gas = ['Secondary Energy|Electricity|Gas']\n",
    "add_stats_share(stats_c22, ele_gas, 'natural gas', ele, 'electricity generation', [2050])"
   ]
  },
  {
   "cell_type": "code",
   "execution_count": 28,
   "metadata": {},
   "outputs": [
    {
     "name": "stderr",
     "output_type": "stream",
     "text": [
      "pyam.core - INFO: All scenarios have the required variable `Secondary Energy|Electricity|Coal`\n"
     ]
    }
   ],
   "source": [
    "ele_coal = ['Secondary Energy|Electricity|Coal']\n",
    "add_stats_share(stats_c22, ele_coal, 'coal', ele, 'electricity generation', [2050])"
   ]
  },
  {
   "cell_type": "code",
   "execution_count": 29,
   "metadata": {},
   "outputs": [
    {
     "data": {
      "text/html": [
       "<div>\n",
       "<style scoped>\n",
       "    .dataframe tbody tr th:only-of-type {\n",
       "        vertical-align: middle;\n",
       "    }\n",
       "\n",
       "    .dataframe tbody tr th {\n",
       "        vertical-align: top;\n",
       "    }\n",
       "\n",
       "    .dataframe thead tr th {\n",
       "        text-align: left;\n",
       "    }\n",
       "</style>\n",
       "<table border=\"1\" class=\"dataframe\">\n",
       "  <thead>\n",
       "    <tr>\n",
       "      <th></th>\n",
       "      <th></th>\n",
       "      <th>count</th>\n",
       "      <th>Share of electricity generation in 2050</th>\n",
       "    </tr>\n",
       "    <tr>\n",
       "      <th></th>\n",
       "      <th>mean (interquartile range)</th>\n",
       "      <th></th>\n",
       "      <th>(%)</th>\n",
       "    </tr>\n",
       "  </thead>\n",
       "  <tbody>\n",
       "    <tr>\n",
       "      <th rowspan=\"3\" valign=\"top\">no &amp; lo os 1.5</th>\n",
       "      <th>renewables</th>\n",
       "      <td>50</td>\n",
       "      <td>78 (86, 69)</td>\n",
       "    </tr>\n",
       "    <tr>\n",
       "      <th>natural gas</th>\n",
       "      <td>50</td>\n",
       "      <td>8 (11, 3)</td>\n",
       "    </tr>\n",
       "    <tr>\n",
       "      <th>coal</th>\n",
       "      <td>50</td>\n",
       "      <td>1 (2, 0)</td>\n",
       "    </tr>\n",
       "  </tbody>\n",
       "</table>\n",
       "</div>"
      ],
      "text/plain": [
       "                           count Share of electricity generation in 2050\n",
       "mean (interquartile range)                                           (%)\n",
       "no & lo os 1.5 renewables     50                             78 (86, 69)\n",
       "               natural gas    50                               8 (11, 3)\n",
       "               coal           50                                1 (2, 0)"
      ]
     },
     "execution_count": 29,
     "metadata": {},
     "output_type": "execute_result"
    }
   ],
   "source": [
    "stats_c22.summarize(center='mean', interquartile=True, custom_format='{:.0f}')"
   ]
  },
  {
   "cell_type": "markdown",
   "metadata": {},
   "source": [
    "## Statement C2.3: CO2 emissions from industry"
   ]
  },
  {
   "cell_type": "code",
   "execution_count": 30,
   "metadata": {},
   "outputs": [],
   "source": [
    "stats_c23 = pyam.Statistics(df=df, filters=filters_compare)"
   ]
  },
  {
   "cell_type": "code",
   "execution_count": 31,
   "metadata": {},
   "outputs": [],
   "source": [
    "co2_ind = df.filter(variable='Emissions|CO2|Energy|Demand|Industry').timeseries()"
   ]
  },
  {
   "cell_type": "code",
   "execution_count": 32,
   "metadata": {},
   "outputs": [],
   "source": [
    "for y in [2050]:\n",
    "    stats_c23.add((1 - co2_ind[y] / co2_ind[compare_year]) * 100,\n",
    "                   header='Industrial emissions reductions relative to {} (%)'.format(compare_year),\n",
    "                   subheader=y)"
   ]
  },
  {
   "cell_type": "code",
   "execution_count": 33,
   "metadata": {},
   "outputs": [
    {
     "data": {
      "text/html": [
       "<div>\n",
       "<style scoped>\n",
       "    .dataframe tbody tr th:only-of-type {\n",
       "        vertical-align: middle;\n",
       "    }\n",
       "\n",
       "    .dataframe tbody tr th {\n",
       "        vertical-align: top;\n",
       "    }\n",
       "\n",
       "    .dataframe thead tr th {\n",
       "        text-align: left;\n",
       "    }\n",
       "</style>\n",
       "<table border=\"1\" class=\"dataframe\">\n",
       "  <thead>\n",
       "    <tr>\n",
       "      <th></th>\n",
       "      <th>count</th>\n",
       "      <th>Industrial emissions reductions relative to 2010 (%)</th>\n",
       "    </tr>\n",
       "    <tr>\n",
       "      <th>median (interquartile range)</th>\n",
       "      <th></th>\n",
       "      <th>2050</th>\n",
       "    </tr>\n",
       "  </thead>\n",
       "  <tbody>\n",
       "    <tr>\n",
       "      <th>no &amp; lo os 1.5</th>\n",
       "      <td>42</td>\n",
       "      <td>79 (91, 67)</td>\n",
       "    </tr>\n",
       "    <tr>\n",
       "      <th>2.0 lo</th>\n",
       "      <td>59</td>\n",
       "      <td>60 (81, 48)</td>\n",
       "    </tr>\n",
       "  </tbody>\n",
       "</table>\n",
       "</div>"
      ],
      "text/plain": [
       "                             count  \\\n",
       "median (interquartile range)         \n",
       "no & lo os 1.5                  42   \n",
       "2.0 lo                          59   \n",
       "\n",
       "                             Industrial emissions reductions relative to 2010 (%)  \n",
       "median (interquartile range)                                                 2050  \n",
       "no & lo os 1.5                                                      79 (91, 67)    \n",
       "2.0 lo                                                              60 (81, 48)    "
      ]
     },
     "execution_count": 33,
     "metadata": {},
     "output_type": "execute_result"
    }
   ],
   "source": [
    "stats_c23.summarize(center='median', interquartile=True, custom_format='{:.0f}')"
   ]
  },
  {
   "cell_type": "markdown",
   "metadata": {},
   "source": [
    "## Statement C2.4: Urban infrastructure and transport"
   ]
  },
  {
   "cell_type": "code",
   "execution_count": 34,
   "metadata": {},
   "outputs": [],
   "source": [
    "stats_c24 = pyam.Statistics(df=df, filters=filters_compare, rows=True)"
   ]
  },
  {
   "cell_type": "code",
   "execution_count": 35,
   "metadata": {},
   "outputs": [],
   "source": [
    "bld = df.filter(variable='Final Energy|Residential and Commercial').timeseries()\n",
    "bld.index = bld.index.droplevel([2, 3, 4])"
   ]
  },
  {
   "cell_type": "code",
   "execution_count": 36,
   "metadata": {},
   "outputs": [
    {
     "name": "stderr",
     "output_type": "stream",
     "text": [
      "pyam.core - INFO: All scenarios have the required variable `Final Energy|Residential and Commercial|Electricity`\n"
     ]
    }
   ],
   "source": [
    "bld_ele_vars = ['Final Energy|Residential and Commercial|Electricity']\n",
    "add_stats_share(stats_c24, bld_ele_vars, 'electricity', bld, 'energy demand in buildings', [2050])"
   ]
  },
  {
   "cell_type": "code",
   "execution_count": 37,
   "metadata": {},
   "outputs": [],
   "source": [
    "trp = df.filter(variable='Final Energy|Transportation').timeseries()\n",
    "trp.index = trp.index.droplevel([2, 3, 4])"
   ]
  },
  {
   "cell_type": "code",
   "execution_count": 38,
   "metadata": {},
   "outputs": [
    {
     "name": "stderr",
     "output_type": "stream",
     "text": [
      "pyam.core - INFO: All scenarios have the required variable `Final Energy|Transportation|Electricity`\n",
      "pyam.core - INFO: 50 scenarios do not include required variable `Final Energy|Transportation|Hydrogen`, marked as `exclude: True` in metadata\n",
      "pyam.core - INFO: 28 scenarios do not include required variable `Final Energy|Transportation|Liquids|Biomass`, marked as `exclude: True` in metadata\n"
     ]
    }
   ],
   "source": [
    "var_trp_low = [\n",
    "    'Final Energy|Transportation|Electricity',\n",
    "    'Final Energy|Transportation|Hydrogen',\n",
    "    'Final Energy|Transportation|Liquids|Biomass'\n",
    "]\n",
    "\n",
    "add_stats_share(stats_c24, var_trp_low, 'low-emission energy', trp, 'energy demand in transport', [2050])"
   ]
  },
  {
   "cell_type": "code",
   "execution_count": 39,
   "metadata": {},
   "outputs": [
    {
     "data": {
      "text/html": [
       "<div>\n",
       "<style scoped>\n",
       "    .dataframe tbody tr th:only-of-type {\n",
       "        vertical-align: middle;\n",
       "    }\n",
       "\n",
       "    .dataframe tbody tr th {\n",
       "        vertical-align: top;\n",
       "    }\n",
       "\n",
       "    .dataframe thead tr th {\n",
       "        text-align: left;\n",
       "    }\n",
       "</style>\n",
       "<table border=\"1\" class=\"dataframe\">\n",
       "  <thead>\n",
       "    <tr>\n",
       "      <th></th>\n",
       "      <th></th>\n",
       "      <th>count</th>\n",
       "      <th>Share of energy demand in buildings in 2050</th>\n",
       "      <th>Share of energy demand in transport in 2050</th>\n",
       "    </tr>\n",
       "    <tr>\n",
       "      <th></th>\n",
       "      <th>median (interquartile range)</th>\n",
       "      <th></th>\n",
       "      <th>(%)</th>\n",
       "      <th>(%)</th>\n",
       "    </tr>\n",
       "  </thead>\n",
       "  <tbody>\n",
       "    <tr>\n",
       "      <th rowspan=\"2\" valign=\"top\">no &amp; lo os 1.5</th>\n",
       "      <th>electricity</th>\n",
       "      <td>30</td>\n",
       "      <td>58 (76, 53)</td>\n",
       "      <td></td>\n",
       "    </tr>\n",
       "    <tr>\n",
       "      <th>low-emission energy</th>\n",
       "      <td>29</td>\n",
       "      <td></td>\n",
       "      <td>55 (66, 35)</td>\n",
       "    </tr>\n",
       "    <tr>\n",
       "      <th rowspan=\"2\" valign=\"top\">2.0 lo</th>\n",
       "      <th>electricity</th>\n",
       "      <td>40</td>\n",
       "      <td>65 (69, 51)</td>\n",
       "      <td></td>\n",
       "    </tr>\n",
       "    <tr>\n",
       "      <th>low-emission energy</th>\n",
       "      <td>34</td>\n",
       "      <td></td>\n",
       "      <td>33 (47, 27)</td>\n",
       "    </tr>\n",
       "  </tbody>\n",
       "</table>\n",
       "</div>"
      ],
      "text/plain": [
       "                                   count  \\\n",
       "median (interquartile range)               \n",
       "no & lo os 1.5 electricity            30   \n",
       "               low-emission energy    29   \n",
       "2.0 lo         electricity            40   \n",
       "               low-emission energy    34   \n",
       "\n",
       "                                   Share of energy demand in buildings in 2050  \\\n",
       "median (interquartile range)                                               (%)   \n",
       "no & lo os 1.5 electricity                                         58 (76, 53)   \n",
       "               low-emission energy                                               \n",
       "2.0 lo         electricity                                         65 (69, 51)   \n",
       "               low-emission energy                                               \n",
       "\n",
       "                                   Share of energy demand in transport in 2050  \n",
       "median (interquartile range)                                               (%)  \n",
       "no & lo os 1.5 electricity                                                      \n",
       "               low-emission energy                                 55 (66, 35)  \n",
       "2.0 lo         electricity                                                      \n",
       "               low-emission energy                                 33 (47, 27)  "
      ]
     },
     "execution_count": 39,
     "metadata": {},
     "output_type": "execute_result"
    }
   ],
   "source": [
    "stats_c24.summarize(center='median', interquartile=True, custom_format='{:.0f}')"
   ]
  },
  {
   "cell_type": "markdown",
   "metadata": {},
   "source": [
    "## Statement C2.5: Transitions of land use\n",
    "\n",
    "Please refer to Figure 2.24 in Chapter 2 of the SR15 for details."
   ]
  },
  {
   "cell_type": "markdown",
   "metadata": {},
   "source": [
    "## Statement C2.6: Energy-related investment costs\n",
    "\n",
    "Please refer to Figure 2.27 in Chapter 2 of the SR15 for details."
   ]
  },
  {
   "cell_type": "markdown",
   "metadata": {},
   "source": [
    "## Statement C2.7: Marginal abatement costs\n",
    "\n",
    "Please refer to the notebook [sr15_2.5_carbon_price_analysis](sr15_2.5_carbon_price_analysis.ipynb) in this folder\n",
    "for the detailed assessment."
   ]
  },
  {
   "cell_type": "markdown",
   "metadata": {},
   "source": [
    "## Statement C3: Cumulative carbon dioxide removal\n",
    "\n",
    "Please refer to the notebook [sr15_2.3.4_carbon_dioxide_removal](sr15_2.3.4_carbon_dioxide_removal.ipynb) in this folder\n",
    "for the detailed assessment."
   ]
  },
  {
   "cell_type": "markdown",
   "metadata": {},
   "source": [
    "## Statement C3.2: Carbon capture and sequestration\n",
    "\n",
    "Please refer to the notebook [sr15_2.3.4_carbon_dioxide_removal](sr15_2.3.4_carbon_dioxide_removal.ipynb) in this folder\n",
    "for the detailed assessment."
   ]
  },
  {
   "cell_type": "markdown",
   "metadata": {},
   "source": [
    "## Statement D1.1: CO2 emissions reductions"
   ]
  },
  {
   "cell_type": "code",
   "execution_count": 40,
   "metadata": {},
   "outputs": [],
   "source": [
    "stats_d11 = pyam.Statistics(df=df, filters=filters_15_no_lo)"
   ]
  },
  {
   "cell_type": "code",
   "execution_count": 41,
   "metadata": {},
   "outputs": [],
   "source": [
    "ghg_ar4_sar = (\n",
    "    df.filter(kyoto_ghg_2010='in range', variable='Emissions|Kyoto Gases (AR4-GWP100)')\n",
    "    .rename(unit={'Mt CO2-equiv/yr': 'Mt CO2e/yr'})\n",
    "    .convert_unit('Mt CO2e/yr','Gt CO2e/yr')\n",
    "    .timeseries()\n",
    ")"
   ]
  },
  {
   "cell_type": "code",
   "execution_count": 42,
   "metadata": {},
   "outputs": [],
   "source": [
    "stats_d11.add(ghg_ar4_sar[[compare_year, 2030]], header='Kyoto GHG emissions (Gt CO2-eq/yr)')"
   ]
  },
  {
   "cell_type": "code",
   "execution_count": 43,
   "metadata": {},
   "outputs": [],
   "source": [
    "stats_d11.add((ghg_ar4_sar[2030] / ghg_ar4_sar[compare_year] - 1) * 100,\n",
    "              header='Reduction of Kyoto GHG emissions',\n",
    "              subheader='2030 relative to {} (%)'.format(compare_year))"
   ]
  },
  {
   "cell_type": "code",
   "execution_count": 44,
   "metadata": {},
   "outputs": [
    {
     "data": {
      "text/html": [
       "<div>\n",
       "<style scoped>\n",
       "    .dataframe tbody tr th:only-of-type {\n",
       "        vertical-align: middle;\n",
       "    }\n",
       "\n",
       "    .dataframe tbody tr th {\n",
       "        vertical-align: top;\n",
       "    }\n",
       "\n",
       "    .dataframe thead tr th {\n",
       "        text-align: left;\n",
       "    }\n",
       "</style>\n",
       "<table border=\"1\" class=\"dataframe\">\n",
       "  <thead>\n",
       "    <tr>\n",
       "      <th></th>\n",
       "      <th>count</th>\n",
       "      <th colspan=\"2\" halign=\"left\">Kyoto GHG emissions (Gt CO2-eq/yr)</th>\n",
       "      <th>Reduction of Kyoto GHG emissions</th>\n",
       "    </tr>\n",
       "    <tr>\n",
       "      <th>mean (interquartile range)</th>\n",
       "      <th></th>\n",
       "      <th>2010</th>\n",
       "      <th>2030</th>\n",
       "      <th>2030 relative to 2010 (%)</th>\n",
       "    </tr>\n",
       "  </thead>\n",
       "  <tbody>\n",
       "    <tr>\n",
       "      <th>no &amp; lo os 1.5</th>\n",
       "      <td>36</td>\n",
       "      <td>49.7 (51.8, 48.3)</td>\n",
       "      <td>27.3 (30.9, 24.7)</td>\n",
       "      <td>-45.1 (-38.8, -50.5)</td>\n",
       "    </tr>\n",
       "  </tbody>\n",
       "</table>\n",
       "</div>"
      ],
      "text/plain": [
       "                           count Kyoto GHG emissions (Gt CO2-eq/yr)  \\\n",
       "mean (interquartile range)                                     2010   \n",
       "no & lo os 1.5                36                  49.7 (51.8, 48.3)   \n",
       "\n",
       "                                              Reduction of Kyoto GHG emissions  \n",
       "mean (interquartile range)               2030        2030 relative to 2010 (%)  \n",
       "no & lo os 1.5              27.3 (30.9, 24.7)             -45.1 (-38.8, -50.5)  "
      ]
     },
     "execution_count": 44,
     "metadata": {},
     "output_type": "execute_result"
    }
   ],
   "source": [
    "stats_d11.summarize(interquartile=True, custom_format='{:.1f}')"
   ]
  },
  {
   "cell_type": "markdown",
   "metadata": {},
   "source": [
    "### Checking 1.5°C pathways with limited overshoot that do not reduce CO2 emissions to below 35Gt in 2030"
   ]
  },
  {
   "cell_type": "code",
   "execution_count": 45,
   "metadata": {},
   "outputs": [],
   "source": [
    "ghg_ar4 = (\n",
    "    df.filter(variable='Emissions|Kyoto Gases (AR4-GWP100)')\n",
    "    .rename(unit={'Mt CO2-equiv/yr': 'Mt CO2e/yr'})\n",
    "    .convert_unit('Mt CO2e/yr','Gt CO2e/yr')\n",
    "    .timeseries()\n",
    ")"
   ]
  },
  {
   "cell_type": "code",
   "execution_count": 46,
   "metadata": {},
   "outputs": [
    {
     "data": {
      "text/html": [
       "<div>\n",
       "<style scoped>\n",
       "    .dataframe tbody tr th:only-of-type {\n",
       "        vertical-align: middle;\n",
       "    }\n",
       "\n",
       "    .dataframe tbody tr th {\n",
       "        vertical-align: top;\n",
       "    }\n",
       "\n",
       "    .dataframe thead th {\n",
       "        text-align: right;\n",
       "    }\n",
       "</style>\n",
       "<table border=\"1\" class=\"dataframe\">\n",
       "  <thead>\n",
       "    <tr style=\"text-align: right;\">\n",
       "      <th></th>\n",
       "      <th></th>\n",
       "      <th></th>\n",
       "      <th></th>\n",
       "      <th></th>\n",
       "      <th>2000</th>\n",
       "      <th>2005</th>\n",
       "      <th>2010</th>\n",
       "      <th>2015</th>\n",
       "      <th>2020</th>\n",
       "      <th>2030</th>\n",
       "      <th>2040</th>\n",
       "      <th>2050</th>\n",
       "      <th>2060</th>\n",
       "      <th>2070</th>\n",
       "      <th>2080</th>\n",
       "      <th>2090</th>\n",
       "      <th>2100</th>\n",
       "    </tr>\n",
       "    <tr>\n",
       "      <th>model</th>\n",
       "      <th>scenario</th>\n",
       "      <th>region</th>\n",
       "      <th>variable</th>\n",
       "      <th>unit</th>\n",
       "      <th></th>\n",
       "      <th></th>\n",
       "      <th></th>\n",
       "      <th></th>\n",
       "      <th></th>\n",
       "      <th></th>\n",
       "      <th></th>\n",
       "      <th></th>\n",
       "      <th></th>\n",
       "      <th></th>\n",
       "      <th></th>\n",
       "      <th></th>\n",
       "      <th></th>\n",
       "    </tr>\n",
       "  </thead>\n",
       "  <tbody>\n",
       "    <tr>\n",
       "      <th>MERGE-ETL 6.0</th>\n",
       "      <th>DAC15_50</th>\n",
       "      <th>World</th>\n",
       "      <th>Emissions|Kyoto Gases (AR4-GWP100)</th>\n",
       "      <th>Gt CO2e/yr</th>\n",
       "      <td>51.441214</td>\n",
       "      <td>54.672769</td>\n",
       "      <td>58.393493</td>\n",
       "      <td>55.40835</td>\n",
       "      <td>52.423206</td>\n",
       "      <td>40.408918</td>\n",
       "      <td>33.560128</td>\n",
       "      <td>24.173999</td>\n",
       "      <td>16.470141</td>\n",
       "      <td>8.540068</td>\n",
       "      <td>-0.805529</td>\n",
       "      <td>-14.15674</td>\n",
       "      <td>-30.334473</td>\n",
       "    </tr>\n",
       "  </tbody>\n",
       "</table>\n",
       "</div>"
      ],
      "text/plain": [
       "                                                                                  2000  \\\n",
       "model         scenario region variable                           unit                    \n",
       "MERGE-ETL 6.0 DAC15_50 World  Emissions|Kyoto Gases (AR4-GWP100) Gt CO2e/yr  51.441214   \n",
       "\n",
       "                                                                                  2005  \\\n",
       "model         scenario region variable                           unit                    \n",
       "MERGE-ETL 6.0 DAC15_50 World  Emissions|Kyoto Gases (AR4-GWP100) Gt CO2e/yr  54.672769   \n",
       "\n",
       "                                                                                  2010  \\\n",
       "model         scenario region variable                           unit                    \n",
       "MERGE-ETL 6.0 DAC15_50 World  Emissions|Kyoto Gases (AR4-GWP100) Gt CO2e/yr  58.393493   \n",
       "\n",
       "                                                                                 2015  \\\n",
       "model         scenario region variable                           unit                   \n",
       "MERGE-ETL 6.0 DAC15_50 World  Emissions|Kyoto Gases (AR4-GWP100) Gt CO2e/yr  55.40835   \n",
       "\n",
       "                                                                                  2020  \\\n",
       "model         scenario region variable                           unit                    \n",
       "MERGE-ETL 6.0 DAC15_50 World  Emissions|Kyoto Gases (AR4-GWP100) Gt CO2e/yr  52.423206   \n",
       "\n",
       "                                                                                  2030  \\\n",
       "model         scenario region variable                           unit                    \n",
       "MERGE-ETL 6.0 DAC15_50 World  Emissions|Kyoto Gases (AR4-GWP100) Gt CO2e/yr  40.408918   \n",
       "\n",
       "                                                                                  2040  \\\n",
       "model         scenario region variable                           unit                    \n",
       "MERGE-ETL 6.0 DAC15_50 World  Emissions|Kyoto Gases (AR4-GWP100) Gt CO2e/yr  33.560128   \n",
       "\n",
       "                                                                                  2050  \\\n",
       "model         scenario region variable                           unit                    \n",
       "MERGE-ETL 6.0 DAC15_50 World  Emissions|Kyoto Gases (AR4-GWP100) Gt CO2e/yr  24.173999   \n",
       "\n",
       "                                                                                  2060  \\\n",
       "model         scenario region variable                           unit                    \n",
       "MERGE-ETL 6.0 DAC15_50 World  Emissions|Kyoto Gases (AR4-GWP100) Gt CO2e/yr  16.470141   \n",
       "\n",
       "                                                                                 2070  \\\n",
       "model         scenario region variable                           unit                   \n",
       "MERGE-ETL 6.0 DAC15_50 World  Emissions|Kyoto Gases (AR4-GWP100) Gt CO2e/yr  8.540068   \n",
       "\n",
       "                                                                                 2080  \\\n",
       "model         scenario region variable                           unit                   \n",
       "MERGE-ETL 6.0 DAC15_50 World  Emissions|Kyoto Gases (AR4-GWP100) Gt CO2e/yr -0.805529   \n",
       "\n",
       "                                                                                 2090  \\\n",
       "model         scenario region variable                           unit                   \n",
       "MERGE-ETL 6.0 DAC15_50 World  Emissions|Kyoto Gases (AR4-GWP100) Gt CO2e/yr -14.15674   \n",
       "\n",
       "                                                                                  2100  \n",
       "model         scenario region variable                           unit                   \n",
       "MERGE-ETL 6.0 DAC15_50 World  Emissions|Kyoto Gases (AR4-GWP100) Gt CO2e/yr -30.334473  "
      ]
     },
     "execution_count": 46,
     "metadata": {},
     "output_type": "execute_result"
    }
   ],
   "source": [
    "ghg_ar4_15 = pyam.filter_by_meta(ghg_ar4, df, category=cats_15_no_lo)\n",
    "ghg_ar4_15[ghg_ar4_15[2030] > 35].dropna(axis=1)"
   ]
  }
 ],
 "metadata": {
  "kernelspec": {
   "display_name": "Python 3 (ipykernel)",
   "language": "python",
   "name": "python3"
  },
  "language_info": {
   "codemirror_mode": {
    "name": "ipython",
    "version": 3
   },
   "file_extension": ".py",
   "mimetype": "text/x-python",
   "name": "python",
   "nbconvert_exporter": "python",
   "pygments_lexer": "ipython3",
   "version": "3.7.16"
  }
 },
 "nbformat": 4,
 "nbformat_minor": 2
}
